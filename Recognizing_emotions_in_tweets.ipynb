{
  "nbformat": 4,
  "nbformat_minor": 0,
  "metadata": {
    "colab": {
      "name": "Recognizing emotions in tweets",
      "provenance": [],
      "collapsed_sections": [],
      "authorship_tag": "ABX9TyNdUPOMbUK6zLJCJYgxo1LG",
      "include_colab_link": true
    },
    "kernelspec": {
      "name": "python3",
      "display_name": "Python 3"
    },
    "language_info": {
      "name": "python"
    },
    "accelerator": "GPU"
  },
  "cells": [
    {
      "cell_type": "markdown",
      "metadata": {
        "id": "view-in-github",
        "colab_type": "text"
      },
      "source": [
        "<a href=\"https://colab.research.google.com/github/NikAttano/Classify-Tweets-Based-On-Emotion/blob/main/Recognizing_emotions_in_tweets.ipynb\" target=\"_parent\"><img src=\"https://colab.research.google.com/assets/colab-badge.svg\" alt=\"Open In Colab\"/></a>"
      ]
    },
    {
      "cell_type": "markdown",
      "source": [
        "### Setup Section"
      ],
      "metadata": {
        "id": "XLDUxi5X0pri"
      }
    },
    {
      "cell_type": "markdown",
      "source": [
        "Using Hugging face nlp package"
      ],
      "metadata": {
        "id": "on8dP76K03wu"
      }
    },
    {
      "cell_type": "code",
      "execution_count": 1,
      "metadata": {
        "colab": {
          "base_uri": "https://localhost:8080/"
        },
        "id": "ZG3pUiQQ0oPA",
        "outputId": "994e99f0-755a-4539-84ed-6a04234123d1"
      },
      "outputs": [
        {
          "output_type": "stream",
          "name": "stdout",
          "text": [
            "Requirement already satisfied: nlp in /usr/local/lib/python3.7/dist-packages (0.4.0)\n",
            "Requirement already satisfied: numpy in /usr/local/lib/python3.7/dist-packages (from nlp) (1.21.6)\n",
            "Requirement already satisfied: tqdm>=4.27 in /usr/local/lib/python3.7/dist-packages (from nlp) (4.64.0)\n",
            "Requirement already satisfied: filelock in /usr/local/lib/python3.7/dist-packages (from nlp) (3.6.0)\n",
            "Requirement already satisfied: dill in /usr/local/lib/python3.7/dist-packages (from nlp) (0.3.4)\n",
            "Requirement already satisfied: requests>=2.19.0 in /usr/local/lib/python3.7/dist-packages (from nlp) (2.23.0)\n",
            "Requirement already satisfied: pyarrow>=0.16.0 in /usr/local/lib/python3.7/dist-packages (from nlp) (6.0.1)\n",
            "Requirement already satisfied: pandas in /usr/local/lib/python3.7/dist-packages (from nlp) (1.3.5)\n",
            "Requirement already satisfied: xxhash in /usr/local/lib/python3.7/dist-packages (from nlp) (3.0.0)\n",
            "Requirement already satisfied: chardet<4,>=3.0.2 in /usr/local/lib/python3.7/dist-packages (from requests>=2.19.0->nlp) (3.0.4)\n",
            "Requirement already satisfied: certifi>=2017.4.17 in /usr/local/lib/python3.7/dist-packages (from requests>=2.19.0->nlp) (2021.10.8)\n",
            "Requirement already satisfied: idna<3,>=2.5 in /usr/local/lib/python3.7/dist-packages (from requests>=2.19.0->nlp) (2.10)\n",
            "Requirement already satisfied: urllib3!=1.25.0,!=1.25.1,<1.26,>=1.21.1 in /usr/local/lib/python3.7/dist-packages (from requests>=2.19.0->nlp) (1.24.3)\n",
            "Requirement already satisfied: pytz>=2017.3 in /usr/local/lib/python3.7/dist-packages (from pandas->nlp) (2022.1)\n",
            "Requirement already satisfied: python-dateutil>=2.7.3 in /usr/local/lib/python3.7/dist-packages (from pandas->nlp) (2.8.2)\n",
            "Requirement already satisfied: six>=1.5 in /usr/local/lib/python3.7/dist-packages (from python-dateutil>=2.7.3->pandas->nlp) (1.15.0)\n"
          ]
        }
      ],
      "source": [
        "!pip install nlp"
      ]
    },
    {
      "cell_type": "markdown",
      "source": [
        "### Import required packages and Create helper function for plotting graphs"
      ],
      "metadata": {
        "id": "sjwJHthS2IeS"
      }
    },
    {
      "cell_type": "code",
      "source": [
        "%matplotlib inline\n",
        "\n",
        "import tensorflow as tf\n",
        "import numpy as np\n",
        "import matplotlib.pyplot as plt\n",
        "import nlp\n",
        "import random\n",
        "\n",
        "def show_history(h):\n",
        "  epochs_trained = len(h.history['loss'])\n",
        "  plt.figure(figsize = (16, 6))\n",
        "\n",
        "  plt.subplot(1, 2, 1)\n",
        "  plt.plot(range(0, epochs_trained), h.history.get('accuracy'), label = 'Training')\n",
        "  plt.plot(range(0, epochs_trained), h.history.get('val_accuracy'), label = 'Validation')\n",
        "  plt.ylim([0., 1.])\n",
        "  plt.xlabel('Epochs')\n",
        "  plt.ylabel('Accuracy')\n",
        "  plt.legend()\n",
        "\n",
        "  plt.subplot(1, 2, 2)\n",
        "\n",
        "def show_confusion_matrix(y_true, y_pred, classes):\n",
        "\n",
        "  from sklearn.metrics import confusion_matrix\n",
        "\n",
        "  cm = confusion_matrix(y_true, y_pred, normalize = 'true')\n",
        "\n",
        "  plt.figure(figsize = (8, 8))\n",
        "  sp = plt.subplot(1, 1, 1)\n",
        "  ctx = sp.matshow(cm)\n",
        "  plt.yticks(list(range(0, 6), labels = classes))\n",
        "  plt.yticks(list(range(0, 6), labels = classes))\n",
        "  plt.colorbar(ctx)\n",
        "  plt.show()\n"
      ],
      "metadata": {
        "id": "iyUTVEZJ1A6N"
      },
      "execution_count": 2,
      "outputs": []
    },
    {
      "cell_type": "markdown",
      "source": [
        "### Get the data"
      ],
      "metadata": {
        "id": "2VRWjDO43ejA"
      }
    },
    {
      "cell_type": "markdown",
      "source": [
        "Importing the tweet emotion dataset from nlp package"
      ],
      "metadata": {
        "id": "Y4pJ3Iq23kfg"
      }
    },
    {
      "cell_type": "code",
      "source": [
        "dataset = nlp.load_dataset('emotion')\n",
        "dataset"
      ],
      "metadata": {
        "colab": {
          "base_uri": "https://localhost:8080/"
        },
        "id": "9o71olKn2U0c",
        "outputId": "27429ca7-d759-4c24-882f-7d8d6b495bee"
      },
      "execution_count": 3,
      "outputs": [
        {
          "output_type": "stream",
          "name": "stderr",
          "text": [
            "Using custom data configuration default\n"
          ]
        },
        {
          "output_type": "execute_result",
          "data": {
            "text/plain": [
              "{'test': Dataset(features: {'text': Value(dtype='string', id=None), 'label': Value(dtype='string', id=None)}, num_rows: 2000),\n",
              " 'train': Dataset(features: {'text': Value(dtype='string', id=None), 'label': Value(dtype='string', id=None)}, num_rows: 16000),\n",
              " 'validation': Dataset(features: {'text': Value(dtype='string', id=None), 'label': Value(dtype='string', id=None)}, num_rows: 2000)}"
            ]
          },
          "metadata": {},
          "execution_count": 3
        }
      ]
    },
    {
      "cell_type": "markdown",
      "source": [
        "Looking at number of examples for each set"
      ],
      "metadata": {
        "id": "iWZwdRrL4lTb"
      }
    },
    {
      "cell_type": "code",
      "source": [
        "train = dataset['train']\n",
        "test = dataset['test']\n",
        "val = dataset['validation']\n",
        "print('Train    Test    Validation\\n')\n",
        "print(len(train), end = '\\t')\n",
        "print(len(test), end = '\\t')\n",
        "print(len(val), end = '\\t')"
      ],
      "metadata": {
        "colab": {
          "base_uri": "https://localhost:8080/"
        },
        "id": "DIODcCaj3urY",
        "outputId": "4107f1c6-b914-452a-f208-c00b054c77a7"
      },
      "execution_count": 4,
      "outputs": [
        {
          "output_type": "stream",
          "name": "stdout",
          "text": [
            "Train    Test    Validation\n",
            "\n",
            "16000\t2000\t2000\t"
          ]
        }
      ]
    },
    {
      "cell_type": "markdown",
      "source": [
        "Looking at the examples using a helper function"
      ],
      "metadata": {
        "id": "ej617_iy4pfF"
      }
    },
    {
      "cell_type": "code",
      "source": [
        "def get_tweet(data):\n",
        "  tweets = [x['text'] for x in data]\n",
        "  labels = [x['label'] for x in data]\n",
        "  return tweets, labels"
      ],
      "metadata": {
        "id": "VBcTQMuy4zwc"
      },
      "execution_count": 5,
      "outputs": []
    },
    {
      "cell_type": "markdown",
      "source": [
        "Look at example from train set"
      ],
      "metadata": {
        "id": "WqUHA5NZ5KMd"
      }
    },
    {
      "cell_type": "code",
      "source": [
        "tweets, labels = get_tweet(train)\n",
        "print('tweet\\t\\t\\tlabel')\n",
        "print(tweets[0],end = '\\t')\n",
        "print(\":\", end = ' ')\n",
        "print(labels[0])"
      ],
      "metadata": {
        "colab": {
          "base_uri": "https://localhost:8080/"
        },
        "id": "Sz7iqGpz5I-f",
        "outputId": "50a368b5-9a0f-46c0-e047-61c6a33860e7"
      },
      "execution_count": 6,
      "outputs": [
        {
          "output_type": "stream",
          "name": "stdout",
          "text": [
            "tweet\t\t\tlabel\n",
            "i didnt feel humiliated\t: sadness\n"
          ]
        }
      ]
    },
    {
      "cell_type": "markdown",
      "source": [
        "### Tokenization using preprocessing"
      ],
      "metadata": {
        "id": "sPIjq81g56PS"
      }
    },
    {
      "cell_type": "code",
      "source": [
        "from tensorflow.keras.preprocessing.text import Tokenizer\n",
        "\n",
        "tokenizer = Tokenizer(num_words = 10000, oov_token = '<UNK>')\n",
        "tokenizer.fit_on_texts(tweets)"
      ],
      "metadata": {
        "id": "CXxebXhV5cb3"
      },
      "execution_count": 7,
      "outputs": []
    },
    {
      "cell_type": "markdown",
      "source": [
        "Visualizong the tokens generated for the tweet"
      ],
      "metadata": {
        "id": "DlOp838E7GQM"
      }
    },
    {
      "cell_type": "code",
      "source": [
        "print(tweets[0])\n",
        "print(tokenizer.texts_to_sequences([tweets[0]]))"
      ],
      "metadata": {
        "colab": {
          "base_uri": "https://localhost:8080/"
        },
        "id": "DSxoETrY62gg",
        "outputId": "9fe4c678-0a66-44d5-aca1-7873e334c54a"
      },
      "execution_count": 8,
      "outputs": [
        {
          "output_type": "stream",
          "name": "stdout",
          "text": [
            "i didnt feel humiliated\n",
            "[[2, 139, 3, 679]]\n"
          ]
        }
      ]
    },
    {
      "cell_type": "markdown",
      "source": [
        "Checking where the length is most concentrated"
      ],
      "metadata": {
        "id": "3Lu4Vb_HqNTv"
      }
    },
    {
      "cell_type": "code",
      "source": [
        "lengths = [len(t.split(' ')) for t in tweets]\n",
        "plt.hist(lengths, bins = len(set(lengths)))"
      ],
      "metadata": {
        "colab": {
          "base_uri": "https://localhost:8080/",
          "height": 473
        },
        "id": "Zw2G30_sphFV",
        "outputId": "7620aebd-9c45-4cc0-f2fd-b8e313b0721a"
      },
      "execution_count": 9,
      "outputs": [
        {
          "output_type": "execute_result",
          "data": {
            "text/plain": [
              "(array([  8.,  45., 310., 488., 539., 625., 626., 629., 613., 636., 654.,\n",
              "        655., 608., 622., 609., 603., 559., 535., 530., 510., 452., 430.,\n",
              "        382., 385., 330., 327., 336., 317., 238., 208., 200., 200., 167.,\n",
              "        157., 141., 144., 120., 117., 117.,  88.,  96.,  72.,  66.,  66.,\n",
              "         65.,  52.,  37.,  43.,  30.,  32.,  31.,  26.,  30.,  20.,  23.,\n",
              "         14.,   9.,  10.,   4.,   4.,   4.,   1.,   4.,   1.]),\n",
              " array([ 2.,  3.,  4.,  5.,  6.,  7.,  8.,  9., 10., 11., 12., 13., 14.,\n",
              "        15., 16., 17., 18., 19., 20., 21., 22., 23., 24., 25., 26., 27.,\n",
              "        28., 29., 30., 31., 32., 33., 34., 35., 36., 37., 38., 39., 40.,\n",
              "        41., 42., 43., 44., 45., 46., 47., 48., 49., 50., 51., 52., 53.,\n",
              "        54., 55., 56., 57., 58., 59., 60., 61., 62., 63., 64., 65., 66.]),\n",
              " <a list of 64 Patch objects>)"
            ]
          },
          "metadata": {},
          "execution_count": 9
        },
        {
          "output_type": "display_data",
          "data": {
            "text/plain": [
              "<Figure size 432x288 with 1 Axes>"
            ],
            "image/png": "[encoded data removed]"
          },
          "metadata": {
            "needs_background": "light"
          }
        }
      ]
    },
    {
      "cell_type": "markdown",
      "source": [
        "### Truncating and padding for normalizing length of tweets"
      ],
      "metadata": {
        "id": "R05AwJtBqYbU"
      }
    },
    {
      "cell_type": "markdown",
      "source": [
        "Since after 50 length let us truncate the tweets upto50 length and pad the smaller ones to 50 length"
      ],
      "metadata": {
        "id": "Bg3IqFr4qerV"
      }
    },
    {
      "cell_type": "code",
      "source": [
        "maxlen = 50\n",
        "from tensorflow.keras.preprocessing.sequence import pad_sequences"
      ],
      "metadata": {
        "id": "NXvNylTJ7FJ-"
      },
      "execution_count": 10,
      "outputs": []
    },
    {
      "cell_type": "code",
      "source": [
        "def get_sequences(tokenizer, tweets):\n",
        "  sequences = tokenizer.texts_to_sequences(tweets)\n",
        "  padded = pad_sequences(sequences, truncating = 'post', padding = 'post', maxlen = maxlen)\n",
        "  return padded"
      ],
      "metadata": {
        "id": "qfY01Iy4qz5E"
      },
      "execution_count": 11,
      "outputs": []
    },
    {
      "cell_type": "markdown",
      "source": [
        "The zeros seen here is the padding"
      ],
      "metadata": {
        "id": "yFUttgDcrr8L"
      }
    },
    {
      "cell_type": "code",
      "source": [
        "padded_train_seq = get_sequences(tokenizer, tweets)\n",
        "padded_train_seq[0]"
      ],
      "metadata": {
        "colab": {
          "base_uri": "https://localhost:8080/"
        },
        "id": "KcauxeUbrS1S",
        "outputId": "2c9bd2b4-ac51-46b7-dab4-ee8d5f501ddf"
      },
      "execution_count": 12,
      "outputs": [
        {
          "output_type": "execute_result",
          "data": {
            "text/plain": [
              "array([  2, 139,   3, 679,   0,   0,   0,   0,   0,   0,   0,   0,   0,\n",
              "         0,   0,   0,   0,   0,   0,   0,   0,   0,   0,   0,   0,   0,\n",
              "         0,   0,   0,   0,   0,   0,   0,   0,   0,   0,   0,   0,   0,\n",
              "         0,   0,   0,   0,   0,   0,   0,   0,   0,   0,   0], dtype=int32)"
            ]
          },
          "metadata": {},
          "execution_count": 12
        }
      ]
    },
    {
      "cell_type": "markdown",
      "source": [
        "### Preparing the labels"
      ],
      "metadata": {
        "id": "m54nmmsNr1ci"
      }
    },
    {
      "cell_type": "code",
      "source": [
        "classes = set(labels)\n",
        "print(classes)"
      ],
      "metadata": {
        "colab": {
          "base_uri": "https://localhost:8080/"
        },
        "id": "u1LwU1XXrkBR",
        "outputId": "a6285b14-39c3-473d-cc9b-51e879fe551a"
      },
      "execution_count": 13,
      "outputs": [
        {
          "output_type": "stream",
          "name": "stdout",
          "text": [
            "{'surprise', 'anger', 'sadness', 'love', 'joy', 'fear'}\n"
          ]
        }
      ]
    },
    {
      "cell_type": "markdown",
      "source": [
        "There is a class imbalance problem with the data"
      ],
      "metadata": {
        "id": "vFHxQvBls2YO"
      }
    },
    {
      "cell_type": "code",
      "source": [
        "plt.hist(labels, bins = 11)\n",
        "plt.show()"
      ],
      "metadata": {
        "colab": {
          "base_uri": "https://localhost:8080/",
          "height": 265
        },
        "id": "xzASsjj1sn-f",
        "outputId": "7234bf0d-ebaf-40a3-b5b4-fe0e9ed6d062"
      },
      "execution_count": 14,
      "outputs": [
        {
          "output_type": "display_data",
          "data": {
            "text/plain": [
              "<Figure size 432x288 with 1 Axes>"
            ],
            "image/png": "[encoded data removed]"
          },
          "metadata": {
            "needs_background": "light"
          }
        }
      ]
    },
    {
      "cell_type": "markdown",
      "source": [
        ""
      ],
      "metadata": {
        "id": "NJAM-xoQs1uX"
      }
    },
    {
      "cell_type": "code",
      "source": [
        "classes_to_index = dict((c, i) for i, c in enumerate(classes))\n",
        "index_to_class = dict((v, k) for k, v in classes_to_index.items())\n",
        "print(classes_to_index, end = '\\n')\n",
        "print(index_to_class)"
      ],
      "metadata": {
        "colab": {
          "base_uri": "https://localhost:8080/"
        },
        "id": "HG0XJB2Jsx4d",
        "outputId": "6a6deea8-2330-4268-aa0e-6e4b5e1af883"
      },
      "execution_count": 15,
      "outputs": [
        {
          "output_type": "stream",
          "name": "stdout",
          "text": [
            "{'surprise': 0, 'anger': 1, 'sadness': 2, 'love': 3, 'joy': 4, 'fear': 5}\n",
            "{0: 'surprise', 1: 'anger', 2: 'sadness', 3: 'love', 4: 'joy', 5: 'fear'}\n"
          ]
        }
      ]
    },
    {
      "cell_type": "code",
      "source": [
        "names_to_ids = lambda labels: np.array([classes_to_index.get(x) for x in labels])"
      ],
      "metadata": {
        "id": "kgiJm1IwtcMs"
      },
      "execution_count": 16,
      "outputs": []
    },
    {
      "cell_type": "markdown",
      "source": [
        "The emotion is now represented by a number"
      ],
      "metadata": {
        "id": "C6hD7gPnt5rL"
      }
    },
    {
      "cell_type": "code",
      "source": [
        "train_labels = names_to_ids(labels)\n",
        "print(train_labels[0])"
      ],
      "metadata": {
        "colab": {
          "base_uri": "https://localhost:8080/"
        },
        "id": "_TfblRCRtqd6",
        "outputId": "aa05028c-cc23-45a7-d2c0-d72f709561ab"
      },
      "execution_count": 17,
      "outputs": [
        {
          "output_type": "stream",
          "name": "stdout",
          "text": [
            "2\n"
          ]
        }
      ]
    },
    {
      "cell_type": "markdown",
      "source": [
        "### Creating a sequential model"
      ],
      "metadata": {
        "id": "LBXIcylPuMr7"
      }
    },
    {
      "cell_type": "code",
      "source": [
        "model = tf.keras.models.Sequential([\n",
        "        tf.keras.layers.Embedding(10000, 16, input_length = maxlen),\n",
        "        tf.keras.layers.Bidirectional(tf.keras.layers.LSTM(20, return_sequences = True)),\n",
        "        tf.keras.layers.Bidirectional(tf.keras.layers.LSTM(20)),\n",
        "        tf.keras.layers.Dense(6, activation = 'softmax')\n",
        "])\n",
        "\n",
        "model.compile(\n",
        "    \n",
        "    loss = 'sparse_categorical_crossentropy',\n",
        "    optimizer = 'adam',\n",
        "    metrics = ['accuracy']\n",
        ")"
      ],
      "metadata": {
        "id": "_hAEkTFCt0jL"
      },
      "execution_count": 18,
      "outputs": []
    },
    {
      "cell_type": "code",
      "source": [
        "model.summary()"
      ],
      "metadata": {
        "colab": {
          "base_uri": "https://localhost:8080/"
        },
        "id": "qlAWyMf7vU9K",
        "outputId": "c23d8145-f48a-4cfd-c9c3-06578ed873e0"
      },
      "execution_count": 19,
      "outputs": [
        {
          "output_type": "stream",
          "name": "stdout",
          "text": [
            "Model: \"sequential\"\n",
            "_________________________________________________________________\n",
            " Layer (type)                Output Shape              Param #   \n",
            "=================================================================\n",
            " embedding (Embedding)       (None, 50, 16)            160000    \n",
            "                                                                 \n",
            " bidirectional (Bidirectiona  (None, 50, 40)           5920      \n",
            " l)                                                              \n",
            "                                                                 \n",
            " bidirectional_1 (Bidirectio  (None, 40)               9760      \n",
            " nal)                                                            \n",
            "                                                                 \n",
            " dense (Dense)               (None, 6)                 246       \n",
            "                                                                 \n",
            "=================================================================\n",
            "Total params: 175,926\n",
            "Trainable params: 175,926\n",
            "Non-trainable params: 0\n",
            "_________________________________________________________________\n"
          ]
        }
      ]
    },
    {
      "cell_type": "markdown",
      "source": [
        "### Training the model"
      ],
      "metadata": {
        "id": "vj0f0sV9vjQ0"
      }
    },
    {
      "cell_type": "code",
      "source": [
        "val_tweets, val_labels = get_tweet(val)\n",
        "val_seq = get_sequences(tokenizer, val_tweets)\n",
        "val_labels = names_to_ids(val_labels)"
      ],
      "metadata": {
        "id": "ker1jnRCvdXG"
      },
      "execution_count": 20,
      "outputs": []
    },
    {
      "cell_type": "code",
      "source": [
        "print(classes_to_index)\n",
        "val_tweets[0], val_labels[0]\n"
      ],
      "metadata": {
        "colab": {
          "base_uri": "https://localhost:8080/"
        },
        "id": "70iW0Oobv2cI",
        "outputId": "c94e9e78-44ca-4221-d4fe-d30f39cc6267"
      },
      "execution_count": 21,
      "outputs": [
        {
          "output_type": "stream",
          "name": "stdout",
          "text": [
            "{'surprise': 0, 'anger': 1, 'sadness': 2, 'love': 3, 'joy': 4, 'fear': 5}\n"
          ]
        },
        {
          "output_type": "execute_result",
          "data": {
            "text/plain": [
              "('im feeling quite sad and sorry for myself but ill snap out of it soon', 2)"
            ]
          },
          "metadata": {},
          "execution_count": 21
        }
      ]
    },
    {
      "cell_type": "code",
      "source": [
        "h = model.fit(\n",
        "    padded_train_seq, train_labels,\n",
        "    validation_data = (val_seq, val_labels),\n",
        "    epochs = 20,\n",
        "    callbacks = [\n",
        "                 tf.keras.callbacks.EarlyStopping(monitor = 'val_accuracy', patience = 2)\n",
        "    ]\n",
        ")"
      ],
      "metadata": {
        "colab": {
          "base_uri": "https://localhost:8080/"
        },
        "id": "GSWzAoKXv60n",
        "outputId": "05401333-f5d4-46cb-f759-fe35b2558c33"
      },
      "execution_count": 22,
      "outputs": [
        {
          "output_type": "stream",
          "name": "stdout",
          "text": [
            "Epoch 1/20\n",
            "500/500 [==============================] - 44s 67ms/step - loss: 1.3898 - accuracy: 0.3871 - val_loss: 1.0842 - val_accuracy: 0.5585\n",
            "Epoch 2/20\n",
            "500/500 [==============================] - 29s 58ms/step - loss: 0.7183 - accuracy: 0.7269 - val_loss: 0.5539 - val_accuracy: 0.8120\n",
            "Epoch 3/20\n",
            "500/500 [==============================] - 29s 59ms/step - loss: 0.3345 - accuracy: 0.8946 - val_loss: 0.3935 - val_accuracy: 0.8770\n",
            "Epoch 4/20\n",
            "500/500 [==============================] - 29s 58ms/step - loss: 0.2122 - accuracy: 0.9336 - val_loss: 0.3932 - val_accuracy: 0.8765\n",
            "Epoch 5/20\n",
            "500/500 [==============================] - 29s 58ms/step - loss: 0.1524 - accuracy: 0.9528 - val_loss: 0.3619 - val_accuracy: 0.8945\n",
            "Epoch 6/20\n",
            "500/500 [==============================] - 29s 58ms/step - loss: 0.1210 - accuracy: 0.9628 - val_loss: 0.3852 - val_accuracy: 0.8930\n",
            "Epoch 7/20\n",
            "500/500 [==============================] - 29s 58ms/step - loss: 0.1046 - accuracy: 0.9666 - val_loss: 0.3690 - val_accuracy: 0.8960\n",
            "Epoch 8/20\n",
            "500/500 [==============================] - 29s 59ms/step - loss: 0.0820 - accuracy: 0.9746 - val_loss: 0.4342 - val_accuracy: 0.8895\n",
            "Epoch 9/20\n",
            "500/500 [==============================] - 29s 58ms/step - loss: 0.0667 - accuracy: 0.9786 - val_loss: 0.4434 - val_accuracy: 0.8940\n"
          ]
        }
      ]
    },
    {
      "cell_type": "code",
      "source": [
        "show_history(h)"
      ],
      "metadata": {
        "colab": {
          "base_uri": "https://localhost:8080/",
          "height": 392
        },
        "id": "QtfnSm3mwpck",
        "outputId": "1e59dabd-09a2-4e58-816f-d134a2010990"
      },
      "execution_count": 23,
      "outputs": [
        {
          "output_type": "display_data",
          "data": {
            "text/plain": [
              "<Figure size 1152x432 with 2 Axes>"
            ],
            "image/png": "[encoded data removed]"
          },
          "metadata": {
            "needs_background": "light"
          }
        }
      ]
    },
    {
      "cell_type": "code",
      "source": [
        "test_tweets, test_labels = get_tweet(test)\n",
        "test_seq = get_sequences(tokenizer, test_tweets)\n",
        "test_labels = names_to_ids(test_labels)"
      ],
      "metadata": {
        "id": "FcOTM-rmxDQY"
      },
      "execution_count": 24,
      "outputs": []
    },
    {
      "cell_type": "code",
      "source": [
        "_ = model.evaluate(test_seq, test_labels)"
      ],
      "metadata": {
        "colab": {
          "base_uri": "https://localhost:8080/"
        },
        "id": "dNmLYN3uxobQ",
        "outputId": "423a08d9-b770-4604-c014-883a5b34dab8"
      },
      "execution_count": 25,
      "outputs": [
        {
          "output_type": "stream",
          "name": "stdout",
          "text": [
            "63/63 [==============================] - 1s 20ms/step - loss: 0.4381 - accuracy: 0.8855\n"
          ]
        }
      ]
    },
    {
      "cell_type": "code",
      "source": [
        "print(index_to_class)\n",
        "i = random.randint(0, len(test_labels)  - 1)\n",
        "print('Original senetence:', test_tweets[i])\n",
        "print('original label:', index_to_class[test_labels[i]])\n",
        "\n",
        "p = model.predict(np.expand_dims(test_seq[i], axis = 0))[0]\n",
        "pred_class = index_to_class[np.argmax(p).astype('uint8')]\n",
        "print('Predicted Class:', pred_class)"
      ],
      "metadata": {
        "colab": {
          "base_uri": "https://localhost:8080/"
        },
        "id": "5P03KuQnxut9",
        "outputId": "666f2e63-226f-4a7c-a486-a45472955eff"
      },
      "execution_count": 26,
      "outputs": [
        {
          "output_type": "stream",
          "name": "stdout",
          "text": [
            "{0: 'surprise', 1: 'anger', 2: 'sadness', 3: 'love', 4: 'joy', 5: 'fear'}\n",
            "Original senetence: i guess no matter how much i think im feeling ok im as nervous as hell on the inside about the scan revealing something i dont want to know again\n",
            "original label: joy\n",
            "Predicted Class: love\n"
          ]
        }
      ]
    },
    {
      "cell_type": "code",
      "source": [
        "import keras"
      ],
      "metadata": {
        "id": "e2njY_TS6k6C"
      },
      "execution_count": 27,
      "outputs": []
    },
    {
      "cell_type": "code",
      "source": [
        "preds = model.predict(test_seq)\n",
        "pred_classes = preds.argmax(axis = -1)"
      ],
      "metadata": {
        "id": "T-Ame1HLyqUe"
      },
      "execution_count": 28,
      "outputs": []
    },
    {
      "cell_type": "code",
      "source": [
        "print(classes)\n",
        "print(test_labels)\n",
        "# print(preds)\n",
        "print(pred_classes)\n",
        "pred_classes = [index_to_class.get(i) for i in pred_classes]\n",
        "test_labels = [index_to_class.get(i) for i in test_labels]\n",
        "# print(pred_classes)\n",
        "# print(test_labels)"
      ],
      "metadata": {
        "colab": {
          "base_uri": "https://localhost:8080/"
        },
        "id": "VyWS-B-O07og",
        "outputId": "697fc88b-6e14-404f-877b-bba2c7b1ab24"
      },
      "execution_count": 29,
      "outputs": [
        {
          "output_type": "stream",
          "name": "stdout",
          "text": [
            "{'surprise', 'anger', 'sadness', 'love', 'joy', 'fear'}\n",
            "[2 2 2 ... 4 4 5]\n",
            "[2 2 2 ... 4 4 5]\n"
          ]
        }
      ]
    },
    {
      "cell_type": "code",
      "source": [
        "from sklearn.metrics import confusion_matrix\n",
        "import pylab as pl\n",
        "cm = confusion_matrix(test_labels, pred_classes)\n",
        "pl.matshow(cm)\n",
        "pl.title('Confusion matrix of the classifier')\n",
        "pl.colorbar()\n",
        "pl.show()"
      ],
      "metadata": {
        "colab": {
          "base_uri": "https://localhost:8080/",
          "height": 263
        },
        "id": "1N8XxpxEzQir",
        "outputId": "3062fbcd-2952-43b4-ddda-480126a30f31"
      },
      "execution_count": 30,
      "outputs": [
        {
          "output_type": "display_data",
          "data": {
            "text/plain": [
              "<Figure size 288x288 with 2 Axes>"
            ],
            "image/png": "[encoded data removed]"
          },
          "metadata": {
            "needs_background": "light"
          }
        }
      ]
    },
    {
      "cell_type": "markdown",
      "source": [
        "### Final Confusion Matrix"
      ],
      "metadata": {
        "id": "hV9sY2Fc9udb"
      }
    },
    {
      "cell_type": "code",
      "source": [
        "import seaborn as sns\n",
        "import matplotlib.pyplot as plt     \n",
        "\n",
        "ax= plt.subplot()\n",
        "sns.heatmap(cm, annot=True, fmt='g', ax=ax);  \n",
        "\n",
        "# labels, title and ticks\n",
        "ax.set_xlabel('Predicted labels');ax.set_ylabel('True labels'); \n",
        "ax.set_title('Confusion Matrix'); \n",
        "ax.xaxis.set_ticklabels(classes); ax.yaxis.set_ticklabels(classes);"
      ],
      "metadata": {
        "colab": {
          "base_uri": "https://localhost:8080/",
          "height": 295
        },
        "id": "dYE3bLm59isO",
        "outputId": "a5c36915-beb8-411d-bfd6-eb43dd191191"
      },
      "execution_count": 31,
      "outputs": [
        {
          "output_type": "display_data",
          "data": {
            "text/plain": [
              "<Figure size 432x288 with 2 Axes>"
            ],
            "image/png": "[encoded data removed]"
          },
          "metadata": {
            "needs_background": "light"
          }
        }
      ]
    }
  ]
}