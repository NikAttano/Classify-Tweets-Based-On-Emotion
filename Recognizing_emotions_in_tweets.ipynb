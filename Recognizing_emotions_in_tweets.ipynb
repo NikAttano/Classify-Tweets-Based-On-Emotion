{
  "nbformat": 4,
  "nbformat_minor": 0,
  "metadata": {
    "colab": {
      "name": "Recognizing emotions in tweets",
      "provenance": [],
      "authorship_tag": "ABX9TyNdUPOMbUK6zLJCJYgxo1LG",
      "include_colab_link": true
    },
    "kernelspec": {
      "name": "python3",
      "display_name": "Python 3"
    },
    "language_info": {
      "name": "python"
    },
    "accelerator": "GPU"
  },
  "cells": [
    {
      "cell_type": "markdown",
      "metadata": {
        "id": "view-in-github",
        "colab_type": "text"
      },
      "source": [
        "<a href=\"https://colab.research.google.com/github/NikAttano/Classify-Tweets-Based-On-Emotion/blob/main/Recognizing_emotions_in_tweets.ipynb\" target=\"_parent\"><img src=\"https://colab.research.google.com/assets/colab-badge.svg\" alt=\"Open In Colab\"/></a>"
      ]
    },
    {
      "cell_type": "markdown",
      "source": [
        "### Setup Section"
      ],
      "metadata": {
        "id": "XLDUxi5X0pri"
      }
    },
    {
      "cell_type": "markdown",
      "source": [
        "Using Hugging face nlp package"
      ],
      "metadata": {
        "id": "on8dP76K03wu"
      }
    },
    {
      "cell_type": "code",
      "execution_count": 1,
      "metadata": {
        "colab": {
          "base_uri": "https://localhost:8080/"
        },
        "id": "ZG3pUiQQ0oPA",
        "outputId": "03d26f93-cb28-4fe0-9933-0c210c1f194a"
      },
      "outputs": [
        {
          "output_type": "stream",
          "name": "stdout",
          "text": [
            "Requirement already satisfied: nlp in /usr/local/lib/python3.7/dist-packages (0.4.0)\n",
            "Requirement already satisfied: filelock in /usr/local/lib/python3.7/dist-packages (from nlp) (3.6.0)\n",
            "Requirement already satisfied: requests>=2.19.0 in /usr/local/lib/python3.7/dist-packages (from nlp) (2.23.0)\n",
            "Requirement already satisfied: dill in /usr/local/lib/python3.7/dist-packages (from nlp) (0.3.4)\n",
            "Requirement already satisfied: tqdm>=4.27 in /usr/local/lib/python3.7/dist-packages (from nlp) (4.64.0)\n",
            "Requirement already satisfied: xxhash in /usr/local/lib/python3.7/dist-packages (from nlp) (3.0.0)\n",
            "Requirement already satisfied: pyarrow>=0.16.0 in /usr/local/lib/python3.7/dist-packages (from nlp) (6.0.1)\n",
            "Requirement already satisfied: pandas in /usr/local/lib/python3.7/dist-packages (from nlp) (1.3.5)\n",
            "Requirement already satisfied: numpy in /usr/local/lib/python3.7/dist-packages (from nlp) (1.21.6)\n",
            "Requirement already satisfied: chardet<4,>=3.0.2 in /usr/local/lib/python3.7/dist-packages (from requests>=2.19.0->nlp) (3.0.4)\n",
            "Requirement already satisfied: certifi>=2017.4.17 in /usr/local/lib/python3.7/dist-packages (from requests>=2.19.0->nlp) (2021.10.8)\n",
            "Requirement already satisfied: urllib3!=1.25.0,!=1.25.1,<1.26,>=1.21.1 in /usr/local/lib/python3.7/dist-packages (from requests>=2.19.0->nlp) (1.24.3)\n",
            "Requirement already satisfied: idna<3,>=2.5 in /usr/local/lib/python3.7/dist-packages (from requests>=2.19.0->nlp) (2.10)\n",
            "Requirement already satisfied: pytz>=2017.3 in /usr/local/lib/python3.7/dist-packages (from pandas->nlp) (2022.1)\n",
            "Requirement already satisfied: python-dateutil>=2.7.3 in /usr/local/lib/python3.7/dist-packages (from pandas->nlp) (2.8.2)\n",
            "Requirement already satisfied: six>=1.5 in /usr/local/lib/python3.7/dist-packages (from python-dateutil>=2.7.3->pandas->nlp) (1.15.0)\n"
          ]
        }
      ],
      "source": [
        "!pip install nlp"
      ]
    },
    {
      "cell_type": "markdown",
      "source": [
        "### Import required packages and Create helper function for plotting graphs"
      ],
      "metadata": {
        "id": "sjwJHthS2IeS"
      }
    },
    {
      "cell_type": "code",
      "source": [
        "%matplotlib inline\n",
        "\n",
        "import tensorflow as tf\n",
        "import numpy as np\n",
        "import matplotlib.pyplot as plt\n",
        "import nlp\n",
        "import random\n",
        "\n",
        "def show_history(h):\n",
        "  epochs_trained = len(h.history['loss'])\n",
        "  plt.figure(figsize = (16, 6))\n",
        "\n",
        "  plt.subplot(1, 2, 1)\n",
        "  plt.plot(range(0, epochs_trained), h.history.get('accuracy'), label = 'Training')\n",
        "  plt.plot(range(0, epochs_trained), h.history.get('val_accuracy'), label = 'Validation')\n",
        "  plt.ylim([0., 1.])\n",
        "  plt.xlabel('Epochs')\n",
        "  plt.ylabel('Accuracy')\n",
        "  plt.legend()\n",
        "\n",
        "  plt.subplot(1, 2, 2)\n",
        "\n",
        "def show_confusion_matrix(y_true, y_pred, classes):\n",
        "\n",
        "  from sklearn.metrics import confusion_matrix\n",
        "\n",
        "  cm = confusion_matrix(y_true, y_pred, normalize = 'true')\n",
        "\n",
        "  plt.figure(figsize = (8, 8))\n",
        "  sp = plt.subplot(1, 1, 1)\n",
        "  ctx = sp.matshow(cm)\n",
        "  plt.yticks(list(range(0, 6), labels = classes))\n",
        "  plt.yticks(list(range(0, 6), labels = classes))\n",
        "  plt.colorbar(ctx)\n",
        "  plt.show()\n"
      ],
      "metadata": {
        "id": "iyUTVEZJ1A6N"
      },
      "execution_count": 2,
      "outputs": []
    },
    {
      "cell_type": "markdown",
      "source": [
        "### Get the data"
      ],
      "metadata": {
        "id": "2VRWjDO43ejA"
      }
    },
    {
      "cell_type": "markdown",
      "source": [
        "Importing the tweet emotion dataset from nlp package"
      ],
      "metadata": {
        "id": "Y4pJ3Iq23kfg"
      }
    },
    {
      "cell_type": "code",
      "source": [
        "dataset = nlp.load_dataset('emotion')\n",
        "dataset"
      ],
      "metadata": {
        "colab": {
          "base_uri": "https://localhost:8080/"
        },
        "id": "9o71olKn2U0c",
        "outputId": "f8877e5f-be9e-4b13-c911-c835034cafd4"
      },
      "execution_count": 3,
      "outputs": [
        {
          "output_type": "stream",
          "name": "stderr",
          "text": [
            "Using custom data configuration default\n"
          ]
        },
        {
          "output_type": "execute_result",
          "data": {
            "text/plain": [
              "{'test': Dataset(features: {'text': Value(dtype='string', id=None), 'label': Value(dtype='string', id=None)}, num_rows: 2000),\n",
              " 'train': Dataset(features: {'text': Value(dtype='string', id=None), 'label': Value(dtype='string', id=None)}, num_rows: 16000),\n",
              " 'validation': Dataset(features: {'text': Value(dtype='string', id=None), 'label': Value(dtype='string', id=None)}, num_rows: 2000)}"
            ]
          },
          "metadata": {},
          "execution_count": 3
        }
      ]
    },
    {
      "cell_type": "markdown",
      "source": [
        "Looking at number of examples for each set"
      ],
      "metadata": {
        "id": "iWZwdRrL4lTb"
      }
    },
    {
      "cell_type": "code",
      "source": [
        "train = dataset['train']\n",
        "test = dataset['test']\n",
        "val = dataset['validation']\n",
        "print('Train    Test    Validation\\n')\n",
        "print(len(train), end = '\\t')\n",
        "print(len(test), end = '\\t')\n",
        "print(len(val), end = '\\t')"
      ],
      "metadata": {
        "colab": {
          "base_uri": "https://localhost:8080/"
        },
        "id": "DIODcCaj3urY",
        "outputId": "57c720b7-7d09-4fdb-e468-5ff4a2e0421f"
      },
      "execution_count": 4,
      "outputs": [
        {
          "output_type": "stream",
          "name": "stdout",
          "text": [
            "Train    Test    Validation\n",
            "\n",
            "16000\t2000\t2000\t"
          ]
        }
      ]
    },
    {
      "cell_type": "markdown",
      "source": [
        "Looking at the examples using a helper function"
      ],
      "metadata": {
        "id": "ej617_iy4pfF"
      }
    },
    {
      "cell_type": "code",
      "source": [
        "def get_tweet(data):\n",
        "  tweets = [x['text'] for x in data]\n",
        "  labels = [x['label'] for x in data]\n",
        "  return tweets, labels"
      ],
      "metadata": {
        "id": "VBcTQMuy4zwc"
      },
      "execution_count": 5,
      "outputs": []
    },
    {
      "cell_type": "markdown",
      "source": [
        "Look at example from train set"
      ],
      "metadata": {
        "id": "WqUHA5NZ5KMd"
      }
    },
    {
      "cell_type": "code",
      "source": [
        "tweets, labels = get_tweet(train)\n",
        "print('tweet\\t\\t\\tlabel')\n",
        "print(tweets[0],end = '\\t')\n",
        "print(\":\", end = ' ')\n",
        "print(labels[0])"
      ],
      "metadata": {
        "colab": {
          "base_uri": "https://localhost:8080/"
        },
        "id": "Sz7iqGpz5I-f",
        "outputId": "6499df54-10e6-4c80-e5b2-8bc9fb1b1024"
      },
      "execution_count": 6,
      "outputs": [
        {
          "output_type": "stream",
          "name": "stdout",
          "text": [
            "tweet\t\t\tlabel\n",
            "i didnt feel humiliated\t: sadness\n"
          ]
        }
      ]
    },
    {
      "cell_type": "markdown",
      "source": [
        "### Tokenization using preprocessing"
      ],
      "metadata": {
        "id": "sPIjq81g56PS"
      }
    },
    {
      "cell_type": "code",
      "source": [
        "from tensorflow.keras.preprocessing.text import Tokenizer\n",
        "\n",
        "tokenizer = Tokenizer(num_words = 10000, oov_token = '<UNK>')\n",
        "tokenizer.fit_on_texts(tweets)"
      ],
      "metadata": {
        "id": "CXxebXhV5cb3"
      },
      "execution_count": 7,
      "outputs": []
    },
    {
      "cell_type": "markdown",
      "source": [
        "Visualizong the tokens generated for the tweet"
      ],
      "metadata": {
        "id": "DlOp838E7GQM"
      }
    },
    {
      "cell_type": "code",
      "source": [
        "print(tweets[0])\n",
        "print(tokenizer.texts_to_sequences([tweets[0]]))"
      ],
      "metadata": {
        "colab": {
          "base_uri": "https://localhost:8080/"
        },
        "id": "DSxoETrY62gg",
        "outputId": "060f178e-9243-4ce5-ef82-1b7bb447e349"
      },
      "execution_count": 8,
      "outputs": [
        {
          "output_type": "stream",
          "name": "stdout",
          "text": [
            "i didnt feel humiliated\n",
            "[[2, 139, 3, 679]]\n"
          ]
        }
      ]
    },
    {
      "cell_type": "markdown",
      "source": [
        "Checking where the length is most concentrated"
      ],
      "metadata": {
        "id": "3Lu4Vb_HqNTv"
      }
    },
    {
      "cell_type": "code",
      "source": [
        "lengths = [len(t.split(' ')) for t in tweets]\n",
        "plt.hist(lengths, bins = len(set(lengths)))"
      ],
      "metadata": {
        "colab": {
          "base_uri": "https://localhost:8080/",
          "height": 473
        },
        "id": "Zw2G30_sphFV",
        "outputId": "02eb5fed-abde-49e8-b1f0-cffccd9d3326"
      },
      "execution_count": 9,
      "outputs": [
        {
          "output_type": "execute_result",
          "data": {
            "text/plain": [
              "(array([  8.,  45., 310., 488., 539., 625., 626., 629., 613., 636., 654.,\n",
              "        655., 608., 622., 609., 603., 559., 535., 530., 510., 452., 430.,\n",
              "        382., 385., 330., 327., 336., 317., 238., 208., 200., 200., 167.,\n",
              "        157., 141., 144., 120., 117., 117.,  88.,  96.,  72.,  66.,  66.,\n",
              "         65.,  52.,  37.,  43.,  30.,  32.,  31.,  26.,  30.,  20.,  23.,\n",
              "         14.,   9.,  10.,   4.,   4.,   4.,   1.,   4.,   1.]),\n",
              " array([ 2.,  3.,  4.,  5.,  6.,  7.,  8.,  9., 10., 11., 12., 13., 14.,\n",
              "        15., 16., 17., 18., 19., 20., 21., 22., 23., 24., 25., 26., 27.,\n",
              "        28., 29., 30., 31., 32., 33., 34., 35., 36., 37., 38., 39., 40.,\n",
              "        41., 42., 43., 44., 45., 46., 47., 48., 49., 50., 51., 52., 53.,\n",
              "        54., 55., 56., 57., 58., 59., 60., 61., 62., 63., 64., 65., 66.]),\n",
              " <a list of 64 Patch objects>)"
            ]
          },
          "metadata": {},
          "execution_count": 9
        },
        {
          "output_type": "display_data",
          "data": {
            "text/plain": [
              "<Figure size 432x288 with 1 Axes>"
            ],
            "image/png": "[encoded data removed]"
          },
          "metadata": {
            "needs_background": "light"
          }
        }
      ]
    },
    {
      "cell_type": "markdown",
      "source": [
        "### Truncating and padding for normalizing length of tweets"
      ],
      "metadata": {
        "id": "R05AwJtBqYbU"
      }
    },
    {
      "cell_type": "markdown",
      "source": [
        "Since after 50 length let us truncate the tweets upto50 length and pad the smaller ones to 50 length"
      ],
      "metadata": {
        "id": "Bg3IqFr4qerV"
      }
    },
    {
      "cell_type": "code",
      "source": [
        "maxlen = 50\n",
        "from tensorflow.keras.preprocessing.sequence import pad_sequences"
      ],
      "metadata": {
        "id": "NXvNylTJ7FJ-"
      },
      "execution_count": 10,
      "outputs": []
    },
    {
      "cell_type": "code",
      "source": [
        "def get_sequences(tokenizer, tweets):\n",
        "  sequences = tokenizer.texts_to_sequences(tweets)\n",
        "  padded = pad_sequences(sequences, truncating = 'post', padding = 'post', maxlen = maxlen)\n",
        "  return padded"
      ],
      "metadata": {
        "id": "qfY01Iy4qz5E"
      },
      "execution_count": 11,
      "outputs": []
    },
    {
      "cell_type": "markdown",
      "source": [
        "The zeros seen here is the padding"
      ],
      "metadata": {
        "id": "yFUttgDcrr8L"
      }
    },
    {
      "cell_type": "code",
      "source": [
        "padded_train_seq = get_sequences(tokenizer, tweets)\n",
        "padded_train_seq[0]"
      ],
      "metadata": {
        "colab": {
          "base_uri": "https://localhost:8080/"
        },
        "id": "KcauxeUbrS1S",
        "outputId": "fc12f243-18ae-47c6-d4a0-861a69c00648"
      },
      "execution_count": 12,
      "outputs": [
        {
          "output_type": "execute_result",
          "data": {
            "text/plain": [
              "array([  2, 139,   3, 679,   0,   0,   0,   0,   0,   0,   0,   0,   0,\n",
              "         0,   0,   0,   0,   0,   0,   0,   0,   0,   0,   0,   0,   0,\n",
              "         0,   0,   0,   0,   0,   0,   0,   0,   0,   0,   0,   0,   0,\n",
              "         0,   0,   0,   0,   0,   0,   0,   0,   0,   0,   0], dtype=int32)"
            ]
          },
          "metadata": {},
          "execution_count": 12
        }
      ]
    },
    {
      "cell_type": "markdown",
      "source": [
        "### Preparing the labels"
      ],
      "metadata": {
        "id": "m54nmmsNr1ci"
      }
    },
    {
      "cell_type": "code",
      "source": [
        "classes = set(labels)\n",
        "print(classes)"
      ],
      "metadata": {
        "colab": {
          "base_uri": "https://localhost:8080/"
        },
        "id": "u1LwU1XXrkBR",
        "outputId": "75fc6cd3-2d40-436a-a17c-04534baf2ca9"
      },
      "execution_count": 13,
      "outputs": [
        {
          "output_type": "stream",
          "name": "stdout",
          "text": [
            "{'love', 'anger', 'joy', 'surprise', 'fear', 'sadness'}\n"
          ]
        }
      ]
    },
    {
      "cell_type": "markdown",
      "source": [
        "There is a class imbalance problem with the data"
      ],
      "metadata": {
        "id": "vFHxQvBls2YO"
      }
    },
    {
      "cell_type": "code",
      "source": [
        "plt.hist(labels, bins = 11)\n",
        "plt.show()"
      ],
      "metadata": {
        "colab": {
          "base_uri": "https://localhost:8080/",
          "height": 265
        },
        "id": "xzASsjj1sn-f",
        "outputId": "438d66e1-3aee-4db2-c8cd-473756ea9fac"
      },
      "execution_count": 14,
      "outputs": [
        {
          "output_type": "display_data",
          "data": {
            "text/plain": [
              "<Figure size 432x288 with 1 Axes>"
            ],
            "image/png": "[encoded data removed]"
          },
          "metadata": {
            "needs_background": "light"
          }
        }
      ]
    },
    {
      "cell_type": "markdown",
      "source": [
        ""
      ],
      "metadata": {
        "id": "NJAM-xoQs1uX"
      }
    },
    {
      "cell_type": "code",
      "source": [
        "classes_to_index = dict((c, i) for i, c in enumerate(classes))\n",
        "index_to_class = dict((v, k) for k, v in classes_to_index.items())\n",
        "print(classes_to_index, end = '\\n')\n",
        "print(index_to_class)"
      ],
      "metadata": {
        "colab": {
          "base_uri": "https://localhost:8080/"
        },
        "id": "HG0XJB2Jsx4d",
        "outputId": "e6dd2dc4-5a19-43a7-e6b8-8ddae45d286e"
      },
      "execution_count": 15,
      "outputs": [
        {
          "output_type": "stream",
          "name": "stdout",
          "text": [
            "{'love': 0, 'anger': 1, 'joy': 2, 'surprise': 3, 'fear': 4, 'sadness': 5}\n",
            "{0: 'love', 1: 'anger', 2: 'joy', 3: 'surprise', 4: 'fear', 5: 'sadness'}\n"
          ]
        }
      ]
    },
    {
      "cell_type": "code",
      "source": [
        "names_to_ids = lambda labels: np.array([classes_to_index.get(x) for x in labels])"
      ],
      "metadata": {
        "id": "kgiJm1IwtcMs"
      },
      "execution_count": 16,
      "outputs": []
    },
    {
      "cell_type": "markdown",
      "source": [
        "The emotion is now represented by a number"
      ],
      "metadata": {
        "id": "C6hD7gPnt5rL"
      }
    },
    {
      "cell_type": "code",
      "source": [
        "train_labels = names_to_ids(labels)\n",
        "print(train_labels[0])"
      ],
      "metadata": {
        "colab": {
          "base_uri": "https://localhost:8080/"
        },
        "id": "_TfblRCRtqd6",
        "outputId": "8e9351cd-a51c-4251-9732-ebe27f9d56d8"
      },
      "execution_count": 17,
      "outputs": [
        {
          "output_type": "stream",
          "name": "stdout",
          "text": [
            "5\n"
          ]
        }
      ]
    },
    {
      "cell_type": "markdown",
      "source": [
        "### Creating a sequential model"
      ],
      "metadata": {
        "id": "LBXIcylPuMr7"
      }
    },
    {
      "cell_type": "code",
      "source": [
        "model = tf.keras.models.Sequential([\n",
        "        tf.keras.layers.Embedding(10000, 16, input_length = maxlen),\n",
        "        tf.keras.layers.Bidirectional(tf.keras.layers.LSTM(20, return_sequences = True)),\n",
        "        tf.keras.layers.Bidirectional(tf.keras.layers.LSTM(20)),\n",
        "        tf.keras.layers.Dense(6, activation = 'softmax')\n",
        "])\n",
        "\n",
        "model.compile(\n",
        "    \n",
        "    loss = 'sparse_categorical_crossentropy',\n",
        "    optimizer = 'adam',\n",
        "    metrics = ['accuracy']\n",
        ")"
      ],
      "metadata": {
        "id": "_hAEkTFCt0jL"
      },
      "execution_count": 18,
      "outputs": []
    },
    {
      "cell_type": "code",
      "source": [
        "model.summary()"
      ],
      "metadata": {
        "colab": {
          "base_uri": "https://localhost:8080/"
        },
        "id": "qlAWyMf7vU9K",
        "outputId": "a469647d-f82c-471c-d83e-515bafa0283a"
      },
      "execution_count": 19,
      "outputs": [
        {
          "output_type": "stream",
          "name": "stdout",
          "text": [
            "Model: \"sequential\"\n",
            "_________________________________________________________________\n",
            " Layer (type)                Output Shape              Param #   \n",
            "=================================================================\n",
            " embedding (Embedding)       (None, 50, 16)            160000    \n",
            "                                                                 \n",
            " bidirectional (Bidirectiona  (None, 50, 40)           5920      \n",
            " l)                                                              \n",
            "                                                                 \n",
            " bidirectional_1 (Bidirectio  (None, 40)               9760      \n",
            " nal)                                                            \n",
            "                                                                 \n",
            " dense (Dense)               (None, 6)                 246       \n",
            "                                                                 \n",
            "=================================================================\n",
            "Total params: 175,926\n",
            "Trainable params: 175,926\n",
            "Non-trainable params: 0\n",
            "_________________________________________________________________\n"
          ]
        }
      ]
    },
    {
      "cell_type": "markdown",
      "source": [
        "### Training the model"
      ],
      "metadata": {
        "id": "vj0f0sV9vjQ0"
      }
    },
    {
      "cell_type": "code",
      "source": [
        "val_tweets, val_labels = get_tweet(val)\n",
        "val_seq = get_sequences(tokenizer, val_tweets)\n",
        "val_labels = names_to_ids(val_labels)"
      ],
      "metadata": {
        "id": "ker1jnRCvdXG"
      },
      "execution_count": 20,
      "outputs": []
    },
    {
      "cell_type": "code",
      "source": [
        "print(classes_to_index)\n",
        "val_tweets[0], val_labels[0]\n"
      ],
      "metadata": {
        "colab": {
          "base_uri": "https://localhost:8080/"
        },
        "id": "70iW0Oobv2cI",
        "outputId": "7a66727e-22a7-4a53-df8f-0c2752f2c3b5"
      },
      "execution_count": 21,
      "outputs": [
        {
          "output_type": "stream",
          "name": "stdout",
          "text": [
            "{'love': 0, 'anger': 1, 'joy': 2, 'surprise': 3, 'fear': 4, 'sadness': 5}\n"
          ]
        },
        {
          "output_type": "execute_result",
          "data": {
            "text/plain": [
              "('im feeling quite sad and sorry for myself but ill snap out of it soon', 5)"
            ]
          },
          "metadata": {},
          "execution_count": 21
        }
      ]
    },
    {
      "cell_type": "code",
      "source": [
        "h = model.fit(\n",
        "    padded_train_seq, train_labels,\n",
        "    validation_data = (val_seq, val_labels),\n",
        "    epochs = 20,\n",
        "    callbacks = [\n",
        "                 tf.keras.callbacks.EarlyStopping(monitor = 'val_accuracy', patience = 2)\n",
        "    ]\n",
        ")"
      ],
      "metadata": {
        "colab": {
          "base_uri": "https://localhost:8080/"
        },
        "id": "GSWzAoKXv60n",
        "outputId": "4ae45c11-94c3-4341-e686-717c89c27b8f"
      },
      "execution_count": 22,
      "outputs": [
        {
          "output_type": "stream",
          "name": "stdout",
          "text": [
            "Epoch 1/20\n",
            "500/500 [==============================] - 42s 63ms/step - loss: 1.2783 - accuracy: 0.4891 - val_loss: 0.7863 - val_accuracy: 0.6810\n",
            "Epoch 2/20\n",
            "500/500 [==============================] - 29s 58ms/step - loss: 0.5527 - accuracy: 0.7890 - val_loss: 0.5263 - val_accuracy: 0.8065\n",
            "Epoch 3/20\n",
            "500/500 [==============================] - 30s 59ms/step - loss: 0.2917 - accuracy: 0.9026 - val_loss: 0.4546 - val_accuracy: 0.8510\n",
            "Epoch 4/20\n",
            "500/500 [==============================] - 30s 59ms/step - loss: 0.2052 - accuracy: 0.9334 - val_loss: 0.3463 - val_accuracy: 0.8875\n",
            "Epoch 5/20\n",
            "500/500 [==============================] - 29s 59ms/step - loss: 0.1481 - accuracy: 0.9536 - val_loss: 0.4331 - val_accuracy: 0.8695\n",
            "Epoch 6/20\n",
            "500/500 [==============================] - 29s 59ms/step - loss: 0.1248 - accuracy: 0.9611 - val_loss: 0.3919 - val_accuracy: 0.8955\n",
            "Epoch 7/20\n",
            "500/500 [==============================] - 29s 59ms/step - loss: 0.1049 - accuracy: 0.9663 - val_loss: 0.3584 - val_accuracy: 0.8940\n",
            "Epoch 8/20\n",
            "500/500 [==============================] - 30s 59ms/step - loss: 0.0850 - accuracy: 0.9718 - val_loss: 0.3853 - val_accuracy: 0.8940\n"
          ]
        }
      ]
    },
    {
      "cell_type": "code",
      "source": [
        "show_history(h)"
      ],
      "metadata": {
        "colab": {
          "base_uri": "https://localhost:8080/",
          "height": 392
        },
        "id": "QtfnSm3mwpck",
        "outputId": "44017e0e-9eb8-4ba9-c436-7e2fefec2ae1"
      },
      "execution_count": 23,
      "outputs": [
        {
          "output_type": "display_data",
          "data": {
            "text/plain": [
              "<Figure size 1152x432 with 2 Axes>"
            ],
            "image/png": "[encoded data removed]"
          },
          "metadata": {
            "needs_background": "light"
          }
        }
      ]
    },
    {
      "cell_type": "code",
      "source": [
        "test_tweets, test_labels = get_tweet(test)\n",
        "test_seq = get_sequences(tokenizer, test_tweets)\n",
        "test_labels = names_to_ids(test_labels)"
      ],
      "metadata": {
        "id": "FcOTM-rmxDQY"
      },
      "execution_count": 56,
      "outputs": []
    },
    {
      "cell_type": "code",
      "source": [
        "_ = model.evaluate(test_seq, test_labels)"
      ],
      "metadata": {
        "colab": {
          "base_uri": "https://localhost:8080/"
        },
        "id": "dNmLYN3uxobQ",
        "outputId": "2dfa1556-18dc-44dc-a163-6750e40098e4"
      },
      "execution_count": 25,
      "outputs": [
        {
          "output_type": "stream",
          "name": "stdout",
          "text": [
            "63/63 [==============================] - 1s 21ms/step - loss: 0.3979 - accuracy: 0.8810\n"
          ]
        }
      ]
    },
    {
      "cell_type": "code",
      "source": [
        "print(index_to_class)\n",
        "i = random.randint(0, len(test_labels)  - 1)\n",
        "print('Original senetence:', test_tweets[i])\n",
        "print('original label:', index_to_class[test_labels[i]])\n",
        "\n",
        "p = model.predict(np.expand_dims(test_seq[i], axis = 0))[0]\n",
        "pred_class = index_to_class[np.argmax(p).astype('uint8')]\n",
        "print('Predicted Class:', pred_class)"
      ],
      "metadata": {
        "colab": {
          "base_uri": "https://localhost:8080/"
        },
        "id": "5P03KuQnxut9",
        "outputId": "af84238b-e7dc-4539-d296-848612551662"
      },
      "execution_count": 26,
      "outputs": [
        {
          "output_type": "stream",
          "name": "stdout",
          "text": [
            "{0: 'love', 1: 'anger', 2: 'joy', 3: 'surprise', 4: 'fear', 5: 'sadness'}\n",
            "Original senetence: i feel like that im hated by most of the girls is it becoz im a good dancer\n",
            "original label: sadness\n",
            "Predicted Class: anger\n"
          ]
        }
      ]
    },
    {
      "cell_type": "code",
      "source": [
        "import keras"
      ],
      "metadata": {
        "id": "e2njY_TS6k6C"
      },
      "execution_count": 34,
      "outputs": []
    },
    {
      "cell_type": "code",
      "source": [
        "preds = model.predict(test_seq)\n",
        "pred_classes = preds.argmax(axis = -1)"
      ],
      "metadata": {
        "id": "T-Ame1HLyqUe"
      },
      "execution_count": 57,
      "outputs": []
    },
    {
      "cell_type": "code",
      "source": [
        "print(classes)\n",
        "print(test_labels)\n",
        "# print(preds)\n",
        "print(pred_classes)\n",
        "pred_classes = [index_to_class.get(i) for i in pred_classes]\n",
        "test_labels = [index_to_class.get(i) for i in test_labels]\n",
        "# print(pred_classes)\n",
        "# print(test_labels)"
      ],
      "metadata": {
        "colab": {
          "base_uri": "https://localhost:8080/"
        },
        "id": "VyWS-B-O07og",
        "outputId": "c03f76a9-d295-493f-cf19-d403d7633a82"
      },
      "execution_count": 58,
      "outputs": [
        {
          "output_type": "stream",
          "name": "stdout",
          "text": [
            "{'love', 'anger', 'joy', 'surprise', 'fear', 'sadness'}\n",
            "[5 5 5 ... 2 2 4]\n",
            "[5 5 5 ... 2 2 3]\n",
            "['sadness', 'sadness', 'sadness', 'joy', 'sadness', 'fear', 'anger', 'joy', 'joy', 'anger', 'anger', 'sadness', 'sadness', 'joy', 'love', 'sadness', 'joy', 'sadness', 'anger', 'joy', 'joy', 'joy', 'joy', 'sadness', 'sadness', 'fear', 'anger', 'sadness', 'fear', 'anger', 'fear', 'anger', 'sadness', 'anger', 'sadness', 'joy', 'love', 'sadness', 'joy', 'joy', 'anger', 'sadness', 'joy', 'sadness', 'joy', 'anger', 'joy', 'joy', 'fear', 'surprise', 'sadness', 'fear', 'joy', 'sadness', 'joy', 'sadness', 'sadness', 'joy', 'sadness', 'anger', 'sadness', 'sadness', 'love', 'joy', 'sadness', 'surprise', 'sadness', 'anger', 'surprise', 'surprise', 'joy', 'love', 'fear', 'joy', 'joy', 'anger', 'joy', 'sadness', 'joy', 'love', 'joy', 'anger', 'sadness', 'joy', 'sadness', 'sadness', 'joy', 'joy', 'joy', 'sadness', 'joy', 'fear', 'anger', 'surprise', 'anger', 'anger', 'joy', 'joy', 'anger', 'sadness', 'fear', 'sadness', 'sadness', 'anger', 'anger', 'anger', 'joy', 'joy', 'fear', 'sadness', 'joy', 'joy', 'fear', 'joy', 'sadness', 'joy', 'joy', 'fear', 'sadness', 'joy', 'sadness', 'anger', 'sadness', 'anger', 'sadness', 'love', 'sadness', 'fear', 'sadness', 'sadness', 'joy', 'joy', 'sadness', 'anger', 'anger', 'joy', 'fear', 'fear', 'sadness', 'joy', 'joy', 'sadness', 'fear', 'joy', 'joy', 'sadness', 'joy', 'fear', 'fear', 'joy', 'sadness', 'love', 'surprise', 'sadness', 'joy', 'anger', 'joy', 'joy', 'anger', 'sadness', 'anger', 'surprise', 'joy', 'fear', 'fear', 'joy', 'love', 'love', 'love', 'sadness', 'love', 'anger', 'joy', 'joy', 'sadness', 'anger', 'joy', 'joy', 'sadness', 'sadness', 'fear', 'joy', 'sadness', 'joy', 'fear', 'sadness', 'joy', 'joy', 'surprise', 'anger', 'joy', 'sadness', 'joy', 'anger', 'sadness', 'sadness', 'fear', 'fear', 'joy', 'love', 'joy', 'love', 'love', 'joy', 'joy', 'joy', 'love', 'fear', 'fear', 'joy', 'anger', 'sadness', 'joy', 'fear', 'joy', 'sadness', 'anger', 'sadness', 'anger', 'anger', 'joy', 'fear', 'love', 'joy', 'joy', 'joy', 'anger', 'joy', 'love', 'sadness', 'sadness', 'sadness', 'fear', 'joy', 'sadness', 'joy', 'sadness', 'joy', 'sadness', 'joy', 'sadness', 'love', 'sadness', 'joy', 'sadness', 'sadness', 'sadness', 'anger', 'joy', 'joy', 'sadness', 'anger', 'sadness', 'anger', 'love', 'sadness', 'joy', 'joy', 'sadness', 'anger', 'anger', 'anger', 'love', 'anger', 'anger', 'joy', 'joy', 'joy', 'anger', 'sadness', 'anger', 'anger', 'fear', 'sadness', 'anger', 'sadness', 'joy', 'fear', 'anger', 'sadness', 'joy', 'sadness', 'sadness', 'joy', 'joy', 'joy', 'love', 'sadness', 'joy', 'joy', 'sadness', 'fear', 'love', 'sadness', 'love', 'surprise', 'anger', 'sadness', 'sadness', 'anger', 'joy', 'anger', 'joy', 'surprise', 'joy', 'surprise', 'fear', 'joy', 'anger', 'fear', 'joy', 'sadness', 'fear', 'joy', 'anger', 'anger', 'love', 'surprise', 'anger', 'surprise', 'sadness', 'sadness', 'sadness', 'joy', 'sadness', 'sadness', 'joy', 'anger', 'sadness', 'sadness', 'fear', 'sadness', 'sadness', 'love', 'sadness', 'love', 'anger', 'joy', 'joy', 'sadness', 'anger', 'joy', 'surprise', 'joy', 'joy', 'joy', 'joy', 'anger', 'fear', 'joy', 'sadness', 'sadness', 'sadness', 'love', 'fear', 'love', 'love', 'sadness', 'sadness', 'joy', 'anger', 'sadness', 'sadness', 'anger', 'joy', 'joy', 'love', 'sadness', 'anger', 'love', 'sadness', 'joy', 'joy', 'anger', 'joy', 'sadness', 'joy', 'sadness', 'anger', 'sadness', 'fear', 'anger', 'surprise', 'fear', 'joy', 'anger', 'anger', 'fear', 'joy', 'sadness', 'sadness', 'love', 'sadness', 'sadness', 'fear', 'sadness', 'anger', 'joy', 'joy', 'fear', 'fear', 'joy', 'surprise', 'sadness', 'love', 'joy', 'joy', 'sadness', 'joy', 'sadness', 'fear', 'joy', 'joy', 'joy', 'anger', 'surprise', 'fear', 'sadness', 'anger', 'anger', 'joy', 'fear', 'fear', 'joy', 'sadness', 'joy', 'fear', 'joy', 'anger', 'fear', 'anger', 'sadness', 'fear', 'anger', 'fear', 'sadness', 'joy', 'anger', 'anger', 'sadness', 'joy', 'surprise', 'anger', 'sadness', 'sadness', 'joy', 'sadness', 'sadness', 'joy', 'anger', 'sadness', 'anger', 'sadness', 'sadness', 'fear', 'sadness', 'joy', 'surprise', 'joy', 'anger', 'surprise', 'joy', 'sadness', 'sadness', 'sadness', 'joy', 'joy', 'sadness', 'joy', 'surprise', 'fear', 'sadness', 'joy', 'sadness', 'anger', 'joy', 'fear', 'anger', 'joy', 'fear', 'sadness', 'sadness', 'anger', 'joy', 'joy', 'joy', 'fear', 'anger', 'joy', 'joy', 'joy', 'sadness', 'joy', 'fear', 'joy', 'joy', 'joy', 'sadness', 'joy', 'fear', 'anger', 'anger', 'fear', 'joy', 'joy', 'joy', 'sadness', 'anger', 'joy', 'sadness', 'joy', 'joy', 'joy', 'joy', 'fear', 'anger', 'joy', 'joy', 'anger', 'joy', 'joy', 'anger', 'fear', 'anger', 'joy', 'sadness', 'fear', 'sadness', 'anger', 'joy', 'joy', 'love', 'joy', 'joy', 'joy', 'love', 'fear', 'anger', 'joy', 'sadness', 'love', 'anger', 'love', 'surprise', 'sadness', 'anger', 'joy', 'joy', 'joy', 'sadness', 'joy', 'sadness', 'surprise', 'sadness', 'joy', 'joy', 'sadness', 'anger', 'joy', 'joy', 'joy', 'anger', 'sadness', 'joy', 'anger', 'sadness', 'sadness', 'sadness', 'sadness', 'joy', 'joy', 'sadness', 'joy', 'sadness', 'love', 'joy', 'love', 'anger', 'fear', 'joy', 'joy', 'joy', 'joy', 'joy', 'sadness', 'fear', 'anger', 'sadness', 'sadness', 'joy', 'fear', 'anger', 'anger', 'surprise', 'sadness', 'love', 'love', 'joy', 'sadness', 'fear', 'sadness', 'anger', 'sadness', 'anger', 'anger', 'sadness', 'joy', 'joy', 'love', 'joy', 'anger', 'sadness', 'joy', 'surprise', 'love', 'love', 'sadness', 'joy', 'joy', 'joy', 'sadness', 'sadness', 'joy', 'anger', 'anger', 'surprise', 'fear', 'love', 'joy', 'love', 'joy', 'joy', 'fear', 'joy', 'sadness', 'joy', 'joy', 'love', 'joy', 'joy', 'joy', 'sadness', 'joy', 'love', 'joy', 'joy', 'anger', 'joy', 'anger', 'sadness', 'anger', 'joy', 'sadness', 'joy', 'anger', 'joy', 'sadness', 'anger', 'fear', 'joy', 'joy', 'sadness', 'anger', 'sadness', 'anger', 'anger', 'fear', 'sadness', 'fear', 'sadness', 'love', 'surprise', 'joy', 'joy', 'joy', 'joy', 'anger', 'sadness', 'joy', 'sadness', 'sadness', 'surprise', 'joy', 'sadness', 'sadness', 'surprise', 'sadness', 'fear', 'anger', 'sadness', 'sadness', 'sadness', 'fear', 'sadness', 'fear', 'joy', 'sadness', 'fear', 'anger', 'fear', 'anger', 'joy', 'sadness', 'sadness', 'sadness', 'surprise', 'joy', 'joy', 'joy', 'sadness', 'sadness', 'fear', 'sadness', 'love', 'sadness', 'joy', 'joy', 'fear', 'anger', 'joy', 'joy', 'fear', 'joy', 'joy', 'fear', 'sadness', 'sadness', 'sadness', 'joy', 'joy', 'joy', 'sadness', 'sadness', 'joy', 'sadness', 'love', 'anger', 'fear', 'anger', 'anger', 'joy', 'joy', 'joy', 'sadness', 'joy', 'joy', 'love', 'joy', 'sadness', 'sadness', 'sadness', 'joy', 'joy', 'sadness', 'fear', 'sadness', 'joy', 'anger', 'joy', 'joy', 'joy', 'joy', 'anger', 'joy', 'sadness', 'love', 'love', 'anger', 'sadness', 'anger', 'joy', 'joy', 'anger', 'joy', 'sadness', 'joy', 'anger', 'anger', 'joy', 'joy', 'fear', 'joy', 'joy', 'anger', 'sadness', 'anger', 'joy', 'joy', 'joy', 'joy', 'love', 'sadness', 'fear', 'joy', 'joy', 'fear', 'joy', 'joy', 'sadness', 'joy', 'joy', 'joy', 'love', 'sadness', 'sadness', 'joy', 'sadness', 'sadness', 'joy', 'sadness', 'anger', 'sadness', 'joy', 'surprise', 'joy', 'joy', 'joy', 'sadness', 'sadness', 'joy', 'surprise', 'joy', 'anger', 'anger', 'fear', 'joy', 'sadness', 'sadness', 'fear', 'sadness', 'fear', 'joy', 'surprise', 'joy', 'fear', 'sadness', 'anger', 'sadness', 'sadness', 'sadness', 'joy', 'sadness', 'joy', 'joy', 'fear', 'joy', 'sadness', 'sadness', 'fear', 'joy', 'sadness', 'sadness', 'joy', 'joy', 'sadness', 'sadness', 'sadness', 'joy', 'sadness', 'joy', 'anger', 'sadness', 'sadness', 'anger', 'joy', 'sadness', 'sadness', 'joy', 'sadness', 'joy', 'joy', 'fear', 'sadness', 'sadness', 'joy', 'surprise', 'sadness', 'love', 'sadness', 'surprise', 'fear', 'anger', 'sadness', 'fear', 'anger', 'joy', 'love', 'sadness', 'surprise', 'joy', 'joy', 'joy', 'anger', 'joy', 'love', 'joy', 'joy', 'joy', 'sadness', 'joy', 'anger', 'joy', 'fear', 'joy', 'sadness', 'fear', 'sadness', 'anger', 'sadness', 'love', 'sadness', 'joy', 'sadness', 'joy', 'joy', 'sadness', 'fear', 'love', 'sadness', 'sadness', 'joy', 'sadness', 'anger', 'love', 'anger', 'joy', 'sadness', 'fear', 'joy', 'joy', 'anger', 'joy', 'sadness', 'anger', 'joy', 'anger', 'love', 'anger', 'joy', 'surprise', 'joy', 'fear', 'fear', 'sadness', 'sadness', 'surprise', 'sadness', 'sadness', 'joy', 'sadness', 'sadness', 'joy', 'joy', 'sadness', 'fear', 'joy', 'joy', 'love', 'joy', 'joy', 'love', 'sadness', 'sadness', 'joy', 'joy', 'sadness', 'joy', 'anger', 'anger', 'surprise', 'anger', 'joy', 'anger', 'anger', 'sadness', 'joy', 'anger', 'fear', 'fear', 'anger', 'joy', 'sadness', 'love', 'sadness', 'anger', 'love', 'joy', 'joy', 'joy', 'sadness', 'sadness', 'sadness', 'love', 'joy', 'joy', 'fear', 'fear', 'love', 'joy', 'sadness', 'love', 'joy', 'anger', 'surprise', 'anger', 'joy', 'fear', 'anger', 'sadness', 'joy', 'anger', 'joy', 'joy', 'joy', 'sadness', 'love', 'sadness', 'love', 'fear', 'joy', 'sadness', 'anger', 'sadness', 'joy', 'fear', 'anger', 'fear', 'fear', 'joy', 'sadness', 'joy', 'anger', 'sadness', 'anger', 'sadness', 'joy', 'joy', 'joy', 'fear', 'joy', 'fear', 'joy', 'joy', 'sadness', 'joy', 'sadness', 'anger', 'joy', 'fear', 'surprise', 'joy', 'joy', 'joy', 'anger', 'surprise', 'joy', 'sadness', 'joy', 'sadness', 'love', 'sadness', 'love', 'surprise', 'joy', 'joy', 'anger', 'joy', 'anger', 'joy', 'joy', 'surprise', 'sadness', 'joy', 'joy', 'joy', 'sadness', 'anger', 'joy', 'anger', 'anger', 'sadness', 'love', 'anger', 'love', 'sadness', 'anger', 'sadness', 'joy', 'sadness', 'joy', 'fear', 'anger', 'love', 'anger', 'sadness', 'fear', 'sadness', 'anger', 'sadness', 'anger', 'surprise', 'anger', 'sadness', 'sadness', 'fear', 'joy', 'sadness', 'joy', 'fear', 'anger', 'sadness', 'fear', 'fear', 'anger', 'joy', 'sadness', 'joy', 'love', 'sadness', 'anger', 'sadness', 'anger', 'joy', 'anger', 'sadness', 'joy', 'joy', 'sadness', 'joy', 'anger', 'anger', 'sadness', 'joy', 'fear', 'sadness', 'sadness', 'joy', 'sadness', 'anger', 'joy', 'joy', 'anger', 'joy', 'sadness', 'anger', 'joy', 'love', 'joy', 'joy', 'anger', 'anger', 'sadness', 'joy', 'sadness', 'joy', 'sadness', 'anger', 'joy', 'anger', 'joy', 'joy', 'joy', 'fear', 'joy', 'anger', 'joy', 'sadness', 'sadness', 'fear', 'joy', 'joy', 'joy', 'fear', 'fear', 'joy', 'sadness', 'joy', 'anger', 'love', 'joy', 'fear', 'fear', 'joy', 'joy', 'anger', 'surprise', 'sadness', 'surprise', 'fear', 'sadness', 'anger', 'sadness', 'sadness', 'sadness', 'love', 'sadness', 'sadness', 'sadness', 'fear', 'joy', 'anger', 'sadness', 'surprise', 'sadness', 'sadness', 'surprise', 'joy', 'love', 'sadness', 'joy', 'joy', 'anger', 'sadness', 'joy', 'sadness', 'joy', 'love', 'joy', 'joy', 'joy', 'joy', 'joy', 'sadness', 'sadness', 'sadness', 'sadness', 'joy', 'sadness', 'joy', 'joy', 'joy', 'joy', 'anger', 'joy', 'fear', 'anger', 'sadness', 'sadness', 'fear', 'joy', 'surprise', 'fear', 'sadness', 'sadness', 'joy', 'love', 'sadness', 'joy', 'joy', 'sadness', 'sadness', 'joy', 'fear', 'surprise', 'sadness', 'joy', 'fear', 'anger', 'fear', 'sadness', 'joy', 'fear', 'joy', 'sadness', 'joy', 'joy', 'fear', 'joy', 'joy', 'joy', 'joy', 'joy', 'joy', 'surprise', 'joy', 'fear', 'joy', 'joy', 'fear', 'fear', 'joy', 'anger', 'anger', 'joy', 'sadness', 'sadness', 'joy', 'fear', 'joy', 'anger', 'sadness', 'joy', 'sadness', 'sadness', 'fear', 'sadness', 'anger', 'sadness', 'sadness', 'anger', 'anger', 'joy', 'joy', 'joy', 'sadness', 'fear', 'surprise', 'joy', 'surprise', 'joy', 'joy', 'joy', 'fear', 'joy', 'surprise', 'joy', 'joy', 'joy', 'sadness', 'sadness', 'anger', 'fear', 'surprise', 'joy', 'joy', 'fear', 'sadness', 'anger', 'joy', 'sadness', 'joy', 'joy', 'joy', 'love', 'sadness', 'sadness', 'joy', 'sadness', 'sadness', 'sadness', 'love', 'fear', 'joy', 'joy', 'sadness', 'joy', 'love', 'love', 'joy', 'fear', 'joy', 'joy', 'anger', 'joy', 'anger', 'fear', 'joy', 'joy', 'love', 'joy', 'joy', 'joy', 'fear', 'joy', 'fear', 'sadness', 'sadness', 'fear', 'sadness', 'joy', 'love', 'anger', 'joy', 'joy', 'sadness', 'sadness', 'anger', 'anger', 'sadness', 'joy', 'joy', 'joy', 'joy', 'anger', 'fear', 'joy', 'joy', 'love', 'joy', 'joy', 'joy', 'joy', 'joy', 'sadness', 'fear', 'love', 'sadness', 'anger', 'fear', 'anger', 'joy', 'anger', 'joy', 'fear', 'joy', 'anger', 'joy', 'joy', 'joy', 'fear', 'joy', 'joy', 'fear', 'anger', 'sadness', 'joy', 'joy', 'joy', 'joy', 'anger', 'fear', 'fear', 'sadness', 'sadness', 'anger', 'fear', 'anger', 'joy', 'joy', 'joy', 'sadness', 'anger', 'joy', 'sadness', 'joy', 'joy', 'joy', 'sadness', 'sadness', 'sadness', 'joy', 'fear', 'fear', 'sadness', 'joy', 'surprise', 'sadness', 'joy', 'joy', 'joy', 'joy', 'sadness', 'anger', 'sadness', 'joy', 'sadness', 'sadness', 'joy', 'love', 'joy', 'joy', 'joy', 'sadness', 'love', 'fear', 'surprise', 'joy', 'anger', 'joy', 'fear', 'anger', 'sadness', 'joy', 'joy', 'sadness', 'sadness', 'love', 'fear', 'love', 'joy', 'joy', 'joy', 'sadness', 'sadness', 'anger', 'surprise', 'joy', 'joy', 'joy', 'sadness', 'joy', 'anger', 'fear', 'joy', 'sadness', 'joy', 'fear', 'love', 'joy', 'anger', 'joy', 'joy', 'joy', 'sadness', 'sadness', 'sadness', 'joy', 'anger', 'fear', 'anger', 'anger', 'sadness', 'joy', 'joy', 'joy', 'joy', 'joy', 'fear', 'joy', 'sadness', 'joy', 'sadness', 'joy', 'anger', 'joy', 'joy', 'joy', 'sadness', 'fear', 'joy', 'anger', 'anger', 'joy', 'sadness', 'fear', 'anger', 'joy', 'joy', 'joy', 'joy', 'sadness', 'love', 'anger', 'anger', 'joy', 'love', 'sadness', 'sadness', 'sadness', 'joy', 'joy', 'sadness', 'fear', 'joy', 'sadness', 'joy', 'anger', 'sadness', 'joy', 'joy', 'joy', 'fear', 'joy', 'fear', 'sadness', 'anger', 'joy', 'sadness', 'joy', 'joy', 'anger', 'love', 'fear', 'joy', 'sadness', 'fear', 'fear', 'fear', 'sadness', 'anger', 'sadness', 'sadness', 'sadness', 'joy', 'anger', 'joy', 'anger', 'sadness', 'joy', 'joy', 'joy', 'anger', 'joy', 'anger', 'joy', 'sadness', 'sadness', 'joy', 'anger', 'surprise', 'sadness', 'joy', 'anger', 'sadness', 'joy', 'joy', 'fear', 'anger', 'joy', 'fear', 'fear', 'joy', 'fear', 'love', 'joy', 'sadness', 'fear', 'joy', 'fear', 'joy', 'joy', 'sadness', 'sadness', 'joy', 'fear', 'anger', 'anger', 'joy', 'anger', 'anger', 'joy', 'sadness', 'fear', 'fear', 'surprise', 'joy', 'joy', 'joy', 'joy', 'joy', 'joy', 'joy', 'anger', 'fear', 'sadness', 'sadness', 'joy', 'joy', 'joy', 'anger', 'love', 'sadness', 'joy', 'fear', 'anger', 'fear', 'joy', 'fear', 'sadness', 'sadness', 'sadness', 'sadness', 'joy', 'sadness', 'anger', 'sadness', 'sadness', 'anger', 'sadness', 'sadness', 'joy', 'joy', 'joy', 'fear', 'joy', 'anger', 'joy', 'fear', 'anger', 'anger', 'love', 'anger', 'sadness', 'joy', 'love', 'love', 'joy', 'joy', 'joy', 'joy', 'sadness', 'anger', 'joy', 'joy', 'joy', 'anger', 'sadness', 'anger', 'anger', 'anger', 'joy', 'love', 'sadness', 'joy', 'sadness', 'joy', 'sadness', 'joy', 'joy', 'love', 'anger', 'joy', 'anger', 'sadness', 'joy', 'sadness', 'fear', 'joy', 'fear', 'joy', 'sadness', 'surprise', 'joy', 'anger', 'joy', 'joy', 'joy', 'joy', 'sadness', 'love', 'anger', 'love', 'sadness', 'joy', 'surprise', 'fear', 'surprise', 'anger', 'anger', 'joy', 'fear', 'anger', 'sadness', 'fear', 'anger', 'love', 'joy', 'surprise', 'fear', 'sadness', 'joy', 'sadness', 'sadness', 'joy', 'joy', 'sadness', 'joy', 'joy', 'joy', 'sadness', 'fear', 'joy', 'fear', 'joy', 'joy', 'love', 'joy', 'joy', 'sadness', 'joy', 'joy', 'sadness', 'joy', 'joy', 'surprise', 'surprise', 'joy', 'joy', 'sadness', 'sadness', 'anger', 'sadness', 'joy', 'anger', 'fear', 'fear', 'joy', 'sadness', 'fear', 'sadness', 'sadness', 'surprise', 'sadness', 'joy', 'anger', 'sadness', 'anger', 'surprise', 'sadness', 'joy', 'joy', 'joy', 'sadness', 'sadness', 'sadness', 'sadness', 'sadness', 'joy', 'fear', 'anger', 'fear', 'fear', 'sadness', 'sadness', 'sadness', 'joy', 'anger', 'joy', 'love', 'anger', 'sadness', 'sadness', 'joy', 'anger', 'joy', 'joy', 'love', 'sadness', 'sadness', 'fear', 'joy', 'joy', 'anger', 'love', 'joy', 'anger', 'love', 'anger', 'sadness', 'joy', 'joy', 'sadness', 'surprise', 'joy', 'joy', 'joy', 'sadness', 'joy', 'joy', 'love', 'joy', 'love', 'joy', 'fear', 'joy', 'sadness', 'fear', 'joy', 'anger', 'joy', 'sadness', 'joy', 'anger', 'joy', 'sadness', 'sadness', 'joy', 'sadness', 'anger', 'joy', 'joy', 'fear', 'joy', 'joy', 'fear', 'joy', 'anger', 'fear', 'sadness', 'sadness', 'joy', 'sadness', 'joy', 'joy', 'sadness', 'anger', 'sadness', 'love', 'joy', 'love', 'anger', 'joy', 'anger', 'sadness', 'joy', 'sadness', 'sadness', 'sadness', 'joy', 'joy', 'sadness', 'sadness', 'joy', 'sadness', 'joy', 'sadness', 'sadness', 'anger', 'sadness', 'anger', 'joy', 'surprise', 'fear', 'anger', 'joy', 'joy', 'joy', 'anger', 'sadness', 'sadness', 'joy', 'joy', 'sadness', 'sadness', 'love', 'surprise', 'sadness', 'sadness', 'sadness', 'anger', 'sadness', 'joy', 'sadness', 'joy', 'joy', 'anger', 'joy', 'sadness', 'anger', 'joy', 'sadness', 'joy', 'fear', 'anger', 'joy', 'love', 'anger', 'sadness', 'sadness', 'joy', 'sadness', 'joy', 'fear', 'joy', 'sadness', 'sadness', 'joy', 'surprise', 'joy', 'joy', 'sadness', 'love', 'joy', 'joy', 'sadness', 'sadness', 'joy', 'anger', 'sadness', 'love', 'love', 'joy', 'joy', 'joy', 'anger', 'fear', 'joy', 'sadness', 'sadness', 'anger', 'sadness', 'anger', 'anger', 'sadness', 'anger', 'joy', 'fear', 'sadness', 'sadness', 'sadness', 'love', 'love', 'anger', 'anger', 'sadness', 'anger', 'anger', 'joy', 'joy', 'surprise']\n",
            "['sadness', 'sadness', 'sadness', 'joy', 'sadness', 'fear', 'anger', 'joy', 'joy', 'anger', 'fear', 'sadness', 'fear', 'joy', 'love', 'sadness', 'joy', 'sadness', 'anger', 'joy', 'sadness', 'joy', 'joy', 'sadness', 'sadness', 'fear', 'anger', 'sadness', 'fear', 'anger', 'fear', 'anger', 'sadness', 'anger', 'sadness', 'joy', 'joy', 'sadness', 'joy', 'joy', 'anger', 'sadness', 'joy', 'sadness', 'joy', 'anger', 'joy', 'joy', 'fear', 'fear', 'sadness', 'fear', 'joy', 'sadness', 'joy', 'sadness', 'sadness', 'joy', 'sadness', 'anger', 'sadness', 'sadness', 'joy', 'joy', 'sadness', 'surprise', 'sadness', 'anger', 'fear', 'surprise', 'joy', 'love', 'surprise', 'joy', 'love', 'anger', 'joy', 'sadness', 'joy', 'love', 'joy', 'anger', 'sadness', 'joy', 'sadness', 'sadness', 'joy', 'joy', 'joy', 'sadness', 'joy', 'fear', 'anger', 'fear', 'anger', 'anger', 'love', 'sadness', 'anger', 'sadness', 'sadness', 'sadness', 'sadness', 'fear', 'anger', 'anger', 'joy', 'joy', 'fear', 'sadness', 'joy', 'love', 'fear', 'joy', 'sadness', 'joy', 'joy', 'fear', 'sadness', 'joy', 'sadness', 'joy', 'sadness', 'anger', 'sadness', 'love', 'sadness', 'fear', 'sadness', 'sadness', 'joy', 'love', 'sadness', 'anger', 'anger', 'joy', 'fear', 'anger', 'sadness', 'joy', 'joy', 'sadness', 'fear', 'joy', 'joy', 'sadness', 'joy', 'fear', 'fear', 'love', 'sadness', 'love', 'surprise', 'sadness', 'joy', 'sadness', 'joy', 'joy', 'anger', 'sadness', 'anger', 'anger', 'joy', 'fear', 'fear', 'joy', 'love', 'love', 'love', 'sadness', 'love', 'anger', 'joy', 'joy', 'sadness', 'anger', 'joy', 'joy', 'sadness', 'sadness', 'fear', 'joy', 'sadness', 'love', 'fear', 'sadness', 'joy', 'joy', 'fear', 'anger', 'joy', 'sadness', 'joy', 'anger', 'sadness', 'sadness', 'fear', 'fear', 'joy', 'joy', 'joy', 'love', 'love', 'joy', 'joy', 'joy', 'love', 'fear', 'fear', 'joy', 'anger', 'sadness', 'joy', 'fear', 'joy', 'sadness', 'anger', 'sadness', 'anger', 'anger', 'joy', 'fear', 'surprise', 'joy', 'joy', 'joy', 'anger', 'joy', 'love', 'fear', 'sadness', 'sadness', 'joy', 'joy', 'fear', 'joy', 'sadness', 'joy', 'sadness', 'joy', 'sadness', 'love', 'fear', 'joy', 'sadness', 'sadness', 'sadness', 'anger', 'joy', 'surprise', 'sadness', 'sadness', 'sadness', 'anger', 'love', 'sadness', 'joy', 'joy', 'sadness', 'anger', 'anger', 'anger', 'joy', 'anger', 'anger', 'love', 'joy', 'joy', 'anger', 'sadness', 'anger', 'anger', 'fear', 'sadness', 'anger', 'sadness', 'joy', 'fear', 'anger', 'sadness', 'joy', 'sadness', 'sadness', 'joy', 'joy', 'joy', 'love', 'sadness', 'joy', 'joy', 'surprise', 'fear', 'love', 'sadness', 'love', 'fear', 'anger', 'sadness', 'sadness', 'anger', 'joy', 'anger', 'love', 'love', 'joy', 'fear', 'anger', 'love', 'fear', 'fear', 'joy', 'sadness', 'fear', 'joy', 'sadness', 'anger', 'love', 'surprise', 'anger', 'fear', 'sadness', 'sadness', 'sadness', 'joy', 'sadness', 'sadness', 'love', 'anger', 'sadness', 'sadness', 'fear', 'sadness', 'sadness', 'love', 'sadness', 'joy', 'sadness', 'joy', 'joy', 'sadness', 'anger', 'love', 'surprise', 'joy', 'joy', 'joy', 'joy', 'fear', 'fear', 'joy', 'sadness', 'sadness', 'sadness', 'joy', 'joy', 'love', 'love', 'sadness', 'sadness', 'joy', 'anger', 'sadness', 'sadness', 'anger', 'joy', 'joy', 'love', 'sadness', 'anger', 'love', 'sadness', 'joy', 'joy', 'anger', 'joy', 'sadness', 'joy', 'sadness', 'anger', 'sadness', 'fear', 'anger', 'surprise', 'fear', 'joy', 'anger', 'anger', 'fear', 'joy', 'sadness', 'sadness', 'love', 'sadness', 'sadness', 'fear', 'sadness', 'anger', 'joy', 'sadness', 'fear', 'fear', 'joy', 'surprise', 'sadness', 'love', 'joy', 'joy', 'sadness', 'joy', 'sadness', 'fear', 'anger', 'joy', 'joy', 'anger', 'joy', 'fear', 'sadness', 'anger', 'fear', 'joy', 'fear', 'fear', 'joy', 'sadness', 'joy', 'sadness', 'joy', 'anger', 'fear', 'anger', 'sadness', 'fear', 'fear', 'fear', 'sadness', 'joy', 'anger', 'anger', 'sadness', 'joy', 'surprise', 'anger', 'sadness', 'sadness', 'joy', 'sadness', 'sadness', 'joy', 'anger', 'sadness', 'anger', 'sadness', 'sadness', 'fear', 'sadness', 'joy', 'fear', 'joy', 'anger', 'fear', 'joy', 'sadness', 'sadness', 'sadness', 'joy', 'love', 'sadness', 'sadness', 'surprise', 'fear', 'sadness', 'joy', 'joy', 'anger', 'joy', 'sadness', 'anger', 'joy', 'fear', 'sadness', 'sadness', 'anger', 'joy', 'joy', 'sadness', 'fear', 'anger', 'joy', 'joy', 'joy', 'sadness', 'joy', 'fear', 'joy', 'joy', 'joy', 'sadness', 'joy', 'fear', 'anger', 'anger', 'anger', 'joy', 'joy', 'joy', 'sadness', 'anger', 'sadness', 'sadness', 'joy', 'joy', 'joy', 'love', 'fear', 'joy', 'joy', 'joy', 'anger', 'joy', 'love', 'sadness', 'fear', 'anger', 'joy', 'sadness', 'fear', 'sadness', 'anger', 'love', 'joy', 'joy', 'joy', 'joy', 'joy', 'love', 'fear', 'anger', 'joy', 'sadness', 'joy', 'joy', 'joy', 'surprise', 'sadness', 'anger', 'joy', 'joy', 'joy', 'sadness', 'joy', 'sadness', 'surprise', 'sadness', 'joy', 'joy', 'sadness', 'anger', 'joy', 'joy', 'joy', 'anger', 'sadness', 'joy', 'anger', 'sadness', 'sadness', 'sadness', 'sadness', 'joy', 'joy', 'sadness', 'joy', 'sadness', 'love', 'love', 'joy', 'anger', 'fear', 'joy', 'joy', 'joy', 'sadness', 'joy', 'sadness', 'fear', 'sadness', 'sadness', 'sadness', 'joy', 'fear', 'sadness', 'sadness', 'love', 'sadness', 'love', 'surprise', 'joy', 'sadness', 'fear', 'sadness', 'anger', 'sadness', 'anger', 'anger', 'sadness', 'joy', 'joy', 'love', 'joy', 'anger', 'sadness', 'joy', 'surprise', 'love', 'love', 'sadness', 'joy', 'joy', 'joy', 'sadness', 'love', 'joy', 'fear', 'anger', 'surprise', 'fear', 'love', 'joy', 'love', 'love', 'joy', 'fear', 'joy', 'sadness', 'joy', 'joy', 'joy', 'joy', 'joy', 'joy', 'sadness', 'joy', 'love', 'joy', 'joy', 'joy', 'joy', 'anger', 'sadness', 'love', 'joy', 'sadness', 'joy', 'joy', 'joy', 'sadness', 'anger', 'fear', 'joy', 'anger', 'sadness', 'anger', 'sadness', 'anger', 'anger', 'fear', 'sadness', 'fear', 'sadness', 'love', 'surprise', 'joy', 'joy', 'joy', 'joy', 'anger', 'sadness', 'joy', 'sadness', 'sadness', 'surprise', 'joy', 'sadness', 'sadness', 'fear', 'sadness', 'fear', 'sadness', 'sadness', 'sadness', 'sadness', 'fear', 'sadness', 'fear', 'joy', 'sadness', 'fear', 'anger', 'joy', 'anger', 'joy', 'sadness', 'sadness', 'sadness', 'surprise', 'joy', 'joy', 'joy', 'sadness', 'sadness', 'anger', 'sadness', 'love', 'fear', 'love', 'joy', 'fear', 'anger', 'joy', 'joy', 'fear', 'joy', 'joy', 'anger', 'sadness', 'fear', 'sadness', 'joy', 'joy', 'joy', 'sadness', 'sadness', 'joy', 'sadness', 'love', 'sadness', 'fear', 'anger', 'anger', 'joy', 'joy', 'joy', 'sadness', 'joy', 'joy', 'love', 'joy', 'sadness', 'sadness', 'sadness', 'joy', 'joy', 'sadness', 'fear', 'sadness', 'joy', 'anger', 'joy', 'joy', 'joy', 'joy', 'anger', 'joy', 'sadness', 'love', 'love', 'anger', 'sadness', 'anger', 'joy', 'joy', 'anger', 'joy', 'sadness', 'joy', 'sadness', 'sadness', 'joy', 'joy', 'fear', 'joy', 'joy', 'anger', 'sadness', 'joy', 'joy', 'joy', 'joy', 'joy', 'joy', 'sadness', 'fear', 'joy', 'joy', 'surprise', 'sadness', 'joy', 'sadness', 'joy', 'joy', 'joy', 'love', 'sadness', 'sadness', 'joy', 'sadness', 'sadness', 'joy', 'sadness', 'anger', 'sadness', 'joy', 'surprise', 'joy', 'joy', 'anger', 'sadness', 'sadness', 'joy', 'surprise', 'love', 'anger', 'anger', 'fear', 'joy', 'sadness', 'sadness', 'fear', 'sadness', 'fear', 'joy', 'fear', 'love', 'fear', 'sadness', 'anger', 'sadness', 'sadness', 'sadness', 'joy', 'sadness', 'joy', 'joy', 'surprise', 'joy', 'sadness', 'sadness', 'fear', 'joy', 'sadness', 'sadness', 'joy', 'joy', 'sadness', 'sadness', 'sadness', 'joy', 'sadness', 'joy', 'sadness', 'fear', 'sadness', 'anger', 'joy', 'sadness', 'sadness', 'joy', 'sadness', 'love', 'joy', 'fear', 'sadness', 'sadness', 'joy', 'surprise', 'sadness', 'joy', 'joy', 'surprise', 'fear', 'anger', 'sadness', 'fear', 'sadness', 'joy', 'love', 'sadness', 'love', 'joy', 'love', 'joy', 'anger', 'joy', 'love', 'love', 'joy', 'joy', 'sadness', 'joy', 'anger', 'joy', 'fear', 'joy', 'sadness', 'anger', 'sadness', 'anger', 'sadness', 'love', 'sadness', 'joy', 'sadness', 'joy', 'joy', 'sadness', 'fear', 'joy', 'sadness', 'sadness', 'joy', 'sadness', 'anger', 'love', 'anger', 'joy', 'sadness', 'fear', 'joy', 'joy', 'anger', 'joy', 'sadness', 'anger', 'joy', 'sadness', 'love', 'anger', 'joy', 'joy', 'joy', 'fear', 'fear', 'sadness', 'sadness', 'surprise', 'sadness', 'sadness', 'joy', 'sadness', 'sadness', 'joy', 'joy', 'sadness', 'fear', 'joy', 'joy', 'love', 'joy', 'love', 'love', 'sadness', 'sadness', 'joy', 'joy', 'sadness', 'joy', 'anger', 'anger', 'surprise', 'anger', 'joy', 'joy', 'anger', 'sadness', 'joy', 'anger', 'fear', 'love', 'anger', 'joy', 'sadness', 'love', 'sadness', 'anger', 'love', 'joy', 'joy', 'joy', 'sadness', 'sadness', 'sadness', 'love', 'joy', 'love', 'fear', 'surprise', 'joy', 'joy', 'sadness', 'joy', 'joy', 'anger', 'joy', 'anger', 'joy', 'fear', 'anger', 'sadness', 'joy', 'fear', 'joy', 'joy', 'love', 'sadness', 'love', 'sadness', 'love', 'fear', 'joy', 'sadness', 'anger', 'sadness', 'joy', 'fear', 'anger', 'sadness', 'fear', 'joy', 'sadness', 'joy', 'anger', 'sadness', 'anger', 'sadness', 'joy', 'joy', 'sadness', 'fear', 'joy', 'fear', 'joy', 'joy', 'sadness', 'joy', 'sadness', 'anger', 'joy', 'surprise', 'surprise', 'joy', 'surprise', 'joy', 'anger', 'surprise', 'joy', 'sadness', 'joy', 'sadness', 'love', 'sadness', 'love', 'fear', 'joy', 'love', 'sadness', 'joy', 'anger', 'joy', 'joy', 'surprise', 'sadness', 'love', 'joy', 'anger', 'sadness', 'sadness', 'joy', 'anger', 'anger', 'sadness', 'love', 'anger', 'love', 'sadness', 'anger', 'sadness', 'joy', 'sadness', 'joy', 'fear', 'anger', 'love', 'sadness', 'sadness', 'fear', 'sadness', 'anger', 'sadness', 'anger', 'surprise', 'anger', 'sadness', 'sadness', 'fear', 'joy', 'sadness', 'joy', 'fear', 'anger', 'sadness', 'love', 'fear', 'anger', 'joy', 'sadness', 'joy', 'love', 'sadness', 'anger', 'sadness', 'anger', 'joy', 'love', 'sadness', 'sadness', 'joy', 'sadness', 'joy', 'joy', 'anger', 'sadness', 'joy', 'fear', 'sadness', 'sadness', 'joy', 'sadness', 'anger', 'joy', 'joy', 'anger', 'joy', 'sadness', 'anger', 'joy', 'love', 'joy', 'joy', 'anger', 'sadness', 'sadness', 'joy', 'sadness', 'joy', 'sadness', 'joy', 'joy', 'anger', 'joy', 'joy', 'joy', 'fear', 'joy', 'anger', 'joy', 'sadness', 'sadness', 'fear', 'joy', 'joy', 'joy', 'fear', 'fear', 'joy', 'sadness', 'joy', 'anger', 'love', 'joy', 'fear', 'surprise', 'joy', 'joy', 'anger', 'surprise', 'sadness', 'surprise', 'sadness', 'sadness', 'anger', 'sadness', 'sadness', 'sadness', 'love', 'sadness', 'sadness', 'sadness', 'fear', 'joy', 'anger', 'sadness', 'surprise', 'sadness', 'sadness', 'surprise', 'joy', 'love', 'sadness', 'joy', 'joy', 'sadness', 'sadness', 'sadness', 'sadness', 'joy', 'love', 'joy', 'joy', 'joy', 'joy', 'joy', 'sadness', 'sadness', 'sadness', 'sadness', 'joy', 'sadness', 'joy', 'joy', 'joy', 'joy', 'anger', 'joy', 'surprise', 'anger', 'sadness', 'sadness', 'sadness', 'joy', 'surprise', 'sadness', 'sadness', 'sadness', 'joy', 'love', 'sadness', 'joy', 'joy', 'sadness', 'sadness', 'joy', 'anger', 'surprise', 'sadness', 'joy', 'fear', 'anger', 'fear', 'sadness', 'joy', 'fear', 'joy', 'sadness', 'joy', 'joy', 'fear', 'joy', 'joy', 'joy', 'joy', 'joy', 'joy', 'surprise', 'joy', 'surprise', 'joy', 'joy', 'fear', 'fear', 'joy', 'anger', 'anger', 'joy', 'sadness', 'sadness', 'joy', 'fear', 'sadness', 'anger', 'sadness', 'joy', 'sadness', 'sadness', 'fear', 'sadness', 'fear', 'sadness', 'sadness', 'anger', 'anger', 'love', 'joy', 'joy', 'sadness', 'fear', 'surprise', 'joy', 'surprise', 'joy', 'joy', 'joy', 'fear', 'joy', 'surprise', 'joy', 'joy', 'joy', 'sadness', 'anger', 'anger', 'fear', 'fear', 'joy', 'joy', 'fear', 'sadness', 'anger', 'joy', 'sadness', 'joy', 'joy', 'joy', 'love', 'sadness', 'sadness', 'joy', 'sadness', 'sadness', 'sadness', 'love', 'sadness', 'joy', 'joy', 'sadness', 'joy', 'love', 'love', 'joy', 'fear', 'joy', 'joy', 'anger', 'joy', 'anger', 'fear', 'joy', 'joy', 'love', 'joy', 'joy', 'joy', 'joy', 'joy', 'fear', 'sadness', 'sadness', 'fear', 'sadness', 'joy', 'love', 'anger', 'sadness', 'joy', 'sadness', 'sadness', 'anger', 'love', 'sadness', 'joy', 'joy', 'love', 'surprise', 'sadness', 'fear', 'joy', 'love', 'love', 'joy', 'joy', 'joy', 'joy', 'joy', 'sadness', 'surprise', 'love', 'sadness', 'anger', 'fear', 'anger', 'joy', 'anger', 'love', 'fear', 'sadness', 'anger', 'joy', 'joy', 'joy', 'fear', 'joy', 'joy', 'fear', 'anger', 'sadness', 'sadness', 'joy', 'joy', 'joy', 'anger', 'fear', 'fear', 'sadness', 'sadness', 'anger', 'fear', 'anger', 'joy', 'joy', 'joy', 'sadness', 'sadness', 'joy', 'sadness', 'joy', 'sadness', 'love', 'sadness', 'sadness', 'sadness', 'joy', 'fear', 'fear', 'sadness', 'joy', 'fear', 'sadness', 'joy', 'joy', 'joy', 'joy', 'surprise', 'anger', 'sadness', 'joy', 'sadness', 'sadness', 'joy', 'love', 'joy', 'joy', 'joy', 'sadness', 'love', 'fear', 'surprise', 'joy', 'fear', 'joy', 'fear', 'anger', 'sadness', 'joy', 'joy', 'sadness', 'sadness', 'love', 'fear', 'love', 'joy', 'joy', 'joy', 'sadness', 'sadness', 'anger', 'surprise', 'joy', 'joy', 'love', 'sadness', 'joy', 'anger', 'fear', 'joy', 'sadness', 'joy', 'fear', 'love', 'joy', 'anger', 'joy', 'joy', 'joy', 'sadness', 'sadness', 'sadness', 'joy', 'anger', 'fear', 'fear', 'anger', 'sadness', 'joy', 'love', 'joy', 'joy', 'joy', 'fear', 'joy', 'sadness', 'joy', 'sadness', 'sadness', 'anger', 'love', 'joy', 'joy', 'sadness', 'fear', 'joy', 'anger', 'fear', 'joy', 'anger', 'fear', 'anger', 'joy', 'joy', 'joy', 'joy', 'sadness', 'love', 'anger', 'anger', 'joy', 'love', 'sadness', 'sadness', 'sadness', 'joy', 'joy', 'sadness', 'fear', 'joy', 'sadness', 'sadness', 'anger', 'sadness', 'joy', 'joy', 'sadness', 'fear', 'joy', 'fear', 'sadness', 'anger', 'joy', 'sadness', 'joy', 'sadness', 'anger', 'love', 'fear', 'joy', 'sadness', 'fear', 'fear', 'fear', 'sadness', 'joy', 'sadness', 'sadness', 'sadness', 'joy', 'anger', 'joy', 'anger', 'sadness', 'love', 'joy', 'joy', 'anger', 'love', 'sadness', 'joy', 'sadness', 'sadness', 'joy', 'anger', 'surprise', 'sadness', 'joy', 'anger', 'sadness', 'joy', 'sadness', 'fear', 'joy', 'joy', 'fear', 'fear', 'joy', 'anger', 'joy', 'joy', 'sadness', 'anger', 'joy', 'fear', 'joy', 'joy', 'sadness', 'sadness', 'joy', 'fear', 'anger', 'anger', 'sadness', 'anger', 'anger', 'joy', 'sadness', 'fear', 'fear', 'surprise', 'joy', 'joy', 'surprise', 'joy', 'joy', 'joy', 'anger', 'love', 'fear', 'sadness', 'sadness', 'joy', 'joy', 'joy', 'anger', 'love', 'sadness', 'joy', 'fear', 'anger', 'fear', 'joy', 'fear', 'sadness', 'sadness', 'sadness', 'sadness', 'joy', 'sadness', 'sadness', 'sadness', 'sadness', 'anger', 'sadness', 'sadness', 'joy', 'joy', 'joy', 'fear', 'joy', 'anger', 'sadness', 'fear', 'anger', 'sadness', 'love', 'anger', 'sadness', 'joy', 'love', 'love', 'joy', 'joy', 'joy', 'joy', 'sadness', 'anger', 'joy', 'joy', 'joy', 'anger', 'sadness', 'sadness', 'sadness', 'anger', 'joy', 'love', 'sadness', 'joy', 'sadness', 'joy', 'sadness', 'joy', 'joy', 'love', 'anger', 'joy', 'anger', 'sadness', 'love', 'sadness', 'fear', 'joy', 'fear', 'joy', 'sadness', 'surprise', 'joy', 'anger', 'joy', 'anger', 'joy', 'joy', 'sadness', 'joy', 'anger', 'love', 'love', 'joy', 'surprise', 'fear', 'fear', 'anger', 'anger', 'love', 'fear', 'anger', 'sadness', 'fear', 'sadness', 'love', 'joy', 'fear', 'anger', 'sadness', 'joy', 'sadness', 'sadness', 'joy', 'joy', 'sadness', 'love', 'joy', 'joy', 'sadness', 'fear', 'joy', 'fear', 'joy', 'joy', 'love', 'joy', 'joy', 'sadness', 'joy', 'joy', 'sadness', 'joy', 'joy', 'surprise', 'surprise', 'joy', 'joy', 'sadness', 'sadness', 'anger', 'sadness', 'joy', 'anger', 'fear', 'fear', 'joy', 'sadness', 'fear', 'sadness', 'sadness', 'surprise', 'sadness', 'joy', 'anger', 'sadness', 'sadness', 'surprise', 'sadness', 'joy', 'joy', 'joy', 'sadness', 'sadness', 'sadness', 'sadness', 'sadness', 'joy', 'fear', 'anger', 'fear', 'fear', 'sadness', 'sadness', 'sadness', 'joy', 'sadness', 'joy', 'love', 'anger', 'sadness', 'sadness', 'joy', 'anger', 'joy', 'joy', 'joy', 'sadness', 'sadness', 'fear', 'joy', 'joy', 'anger', 'love', 'joy', 'anger', 'love', 'sadness', 'sadness', 'joy', 'joy', 'sadness', 'joy', 'joy', 'love', 'joy', 'sadness', 'joy', 'joy', 'love', 'joy', 'love', 'joy', 'fear', 'joy', 'sadness', 'anger', 'joy', 'anger', 'joy', 'sadness', 'joy', 'anger', 'joy', 'sadness', 'sadness', 'joy', 'sadness', 'anger', 'joy', 'joy', 'fear', 'joy', 'joy', 'fear', 'joy', 'anger', 'fear', 'sadness', 'sadness', 'joy', 'sadness', 'joy', 'joy', 'sadness', 'joy', 'sadness', 'joy', 'joy', 'love', 'anger', 'joy', 'anger', 'sadness', 'joy', 'sadness', 'sadness', 'sadness', 'joy', 'love', 'sadness', 'sadness', 'love', 'sadness', 'joy', 'sadness', 'sadness', 'anger', 'sadness', 'anger', 'joy', 'surprise', 'fear', 'anger', 'joy', 'joy', 'joy', 'anger', 'sadness', 'sadness', 'joy', 'joy', 'sadness', 'sadness', 'joy', 'surprise', 'sadness', 'sadness', 'fear', 'anger', 'sadness', 'joy', 'sadness', 'joy', 'joy', 'fear', 'love', 'sadness', 'anger', 'joy', 'sadness', 'joy', 'fear', 'sadness', 'joy', 'love', 'anger', 'sadness', 'sadness', 'joy', 'sadness', 'joy', 'fear', 'joy', 'sadness', 'sadness', 'joy', 'surprise', 'joy', 'joy', 'sadness', 'love', 'joy', 'joy', 'sadness', 'sadness', 'joy', 'joy', 'sadness', 'love', 'love', 'joy', 'joy', 'joy', 'anger', 'fear', 'joy', 'sadness', 'sadness', 'anger', 'sadness', 'anger', 'anger', 'sadness', 'anger', 'joy', 'fear', 'sadness', 'sadness', 'sadness', 'love', 'love', 'anger', 'anger', 'sadness', 'anger', 'anger', 'joy', 'joy', 'fear']\n"
          ]
        }
      ]
    },
    {
      "cell_type": "code",
      "source": [
        "from sklearn.metrics import confusion_matrix\n",
        "import pylab as pl\n",
        "cm = confusion_matrix(test_labels, pred_classes)\n",
        "pl.matshow(cm)\n",
        "pl.title('Confusion matrix of the classifier')\n",
        "pl.colorbar()\n",
        "pl.show()"
      ],
      "metadata": {
        "colab": {
          "base_uri": "https://localhost:8080/",
          "height": 263
        },
        "id": "1N8XxpxEzQir",
        "outputId": "3b6bc400-3978-4885-ad38-2a3283ca456f"
      },
      "execution_count": 59,
      "outputs": [
        {
          "output_type": "display_data",
          "data": {
            "text/plain": [
              "<Figure size 288x288 with 2 Axes>"
            ],
            "image/png": "[encoded data removed]"
          },
          "metadata": {
            "needs_background": "light"
          }
        }
      ]
    },
    {
      "cell_type": "markdown",
      "source": [
        "### Final Confusion Matrix"
      ],
      "metadata": {
        "id": "hV9sY2Fc9udb"
      }
    },
    {
      "cell_type": "code",
      "source": [
        "import seaborn as sns\n",
        "import matplotlib.pyplot as plt     \n",
        "\n",
        "ax= plt.subplot()\n",
        "sns.heatmap(cm, annot=True, fmt='g', ax=ax);  \n",
        "\n",
        "# labels, title and ticks\n",
        "ax.set_xlabel('Predicted labels');ax.set_ylabel('True labels'); \n",
        "ax.set_title('Confusion Matrix'); \n",
        "ax.xaxis.set_ticklabels(classes); ax.yaxis.set_ticklabels(classes);"
      ],
      "metadata": {
        "colab": {
          "base_uri": "https://localhost:8080/",
          "height": 295
        },
        "id": "dYE3bLm59isO",
        "outputId": "55a3e07b-6aef-4de5-9ecb-1401f423a49d"
      },
      "execution_count": 60,
      "outputs": [
        {
          "output_type": "display_data",
          "data": {
            "text/plain": [
              "<Figure size 432x288 with 2 Axes>"
            ],
            "image/png": "[encoded data removed]"
          },
          "metadata": {
            "needs_background": "light"
          }
        }
      ]
    }
  ]
}